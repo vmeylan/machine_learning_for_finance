{
  "nbformat": 4,
  "nbformat_minor": 0,
  "metadata": {
    "colab": {
      "name": "Copy of MLFF-Data Analysis - final - THETA.ipynb",
      "provenance": [],
      "collapsed_sections": []
    },
    "kernelspec": {
      "name": "python3",
      "display_name": "Python 3"
    }
  },
  "cells": [
    {
      "cell_type": "code",
      "metadata": {
        "id": "t-fCq3-0rtG_",
        "colab_type": "code",
        "outputId": "86424b06-4176-4ad1-eb31-23a83b3e0215",
        "colab": {
          "base_uri": "https://localhost:8080/",
          "height": 622
        }
      },
      "source": [
        "import pandas as pd\n",
        "import matplotlib.pyplot as plt\n",
        "!pip install arch\n",
        "! pip install pyflux\n",
        "import pyflux as pf"
      ],
      "execution_count": 2,
      "outputs": [
        {
          "output_type": "stream",
          "text": [
            "Collecting arch\n",
            "\u001b[?25l  Downloading https://files.pythonhosted.org/packages/f5/9e/7628ae53df0494a08d256dcdccc2519aa058c7c7ccb0fc6ca4a380b0bc86/arch-4.11-cp36-cp36m-manylinux1_x86_64.whl (711kB)\n",
            "\r\u001b[K     |▌                               | 10kB 19.2MB/s eta 0:00:01\r\u001b[K     |█                               | 20kB 6.5MB/s eta 0:00:01\r\u001b[K     |█▍                              | 30kB 7.6MB/s eta 0:00:01\r\u001b[K     |█▉                              | 40kB 5.6MB/s eta 0:00:01\r\u001b[K     |██▎                             | 51kB 6.0MB/s eta 0:00:01\r\u001b[K     |██▊                             | 61kB 7.1MB/s eta 0:00:01\r\u001b[K     |███▏                            | 71kB 7.6MB/s eta 0:00:01\r\u001b[K     |███▊                            | 81kB 7.9MB/s eta 0:00:01\r\u001b[K     |████▏                           | 92kB 8.7MB/s eta 0:00:01\r\u001b[K     |████▋                           | 102kB 8.9MB/s eta 0:00:01\r\u001b[K     |█████                           | 112kB 8.9MB/s eta 0:00:01\r\u001b[K     |█████▌                          | 122kB 8.9MB/s eta 0:00:01\r\u001b[K     |██████                          | 133kB 8.9MB/s eta 0:00:01\r\u001b[K     |██████▍                         | 143kB 8.9MB/s eta 0:00:01\r\u001b[K     |███████                         | 153kB 8.9MB/s eta 0:00:01\r\u001b[K     |███████▍                        | 163kB 8.9MB/s eta 0:00:01\r\u001b[K     |███████▉                        | 174kB 8.9MB/s eta 0:00:01\r\u001b[K     |████████▎                       | 184kB 8.9MB/s eta 0:00:01\r\u001b[K     |████████▊                       | 194kB 8.9MB/s eta 0:00:01\r\u001b[K     |█████████▏                      | 204kB 8.9MB/s eta 0:00:01\r\u001b[K     |█████████▋                      | 215kB 8.9MB/s eta 0:00:01\r\u001b[K     |██████████▏                     | 225kB 8.9MB/s eta 0:00:01\r\u001b[K     |██████████▋                     | 235kB 8.9MB/s eta 0:00:01\r\u001b[K     |███████████                     | 245kB 8.9MB/s eta 0:00:01\r\u001b[K     |███████████▌                    | 256kB 8.9MB/s eta 0:00:01\r\u001b[K     |████████████                    | 266kB 8.9MB/s eta 0:00:01\r\u001b[K     |████████████▍                   | 276kB 8.9MB/s eta 0:00:01\r\u001b[K     |████████████▉                   | 286kB 8.9MB/s eta 0:00:01\r\u001b[K     |█████████████▍                  | 296kB 8.9MB/s eta 0:00:01\r\u001b[K     |█████████████▉                  | 307kB 8.9MB/s eta 0:00:01\r\u001b[K     |██████████████▎                 | 317kB 8.9MB/s eta 0:00:01\r\u001b[K     |██████████████▊                 | 327kB 8.9MB/s eta 0:00:01\r\u001b[K     |███████████████▏                | 337kB 8.9MB/s eta 0:00:01\r\u001b[K     |███████████████▋                | 348kB 8.9MB/s eta 0:00:01\r\u001b[K     |████████████████                | 358kB 8.9MB/s eta 0:00:01\r\u001b[K     |████████████████▋               | 368kB 8.9MB/s eta 0:00:01\r\u001b[K     |█████████████████               | 378kB 8.9MB/s eta 0:00:01\r\u001b[K     |█████████████████▌              | 389kB 8.9MB/s eta 0:00:01\r\u001b[K     |██████████████████              | 399kB 8.9MB/s eta 0:00:01\r\u001b[K     |██████████████████▍             | 409kB 8.9MB/s eta 0:00:01\r\u001b[K     |██████████████████▉             | 419kB 8.9MB/s eta 0:00:01\r\u001b[K     |███████████████████▎            | 430kB 8.9MB/s eta 0:00:01\r\u001b[K     |███████████████████▉            | 440kB 8.9MB/s eta 0:00:01\r\u001b[K     |████████████████████▎           | 450kB 8.9MB/s eta 0:00:01\r\u001b[K     |████████████████████▊           | 460kB 8.9MB/s eta 0:00:01\r\u001b[K     |█████████████████████▏          | 471kB 8.9MB/s eta 0:00:01\r\u001b[K     |█████████████████████▋          | 481kB 8.9MB/s eta 0:00:01\r\u001b[K     |██████████████████████          | 491kB 8.9MB/s eta 0:00:01\r\u001b[K     |██████████████████████▌         | 501kB 8.9MB/s eta 0:00:01\r\u001b[K     |███████████████████████         | 512kB 8.9MB/s eta 0:00:01\r\u001b[K     |███████████████████████▌        | 522kB 8.9MB/s eta 0:00:01\r\u001b[K     |████████████████████████        | 532kB 8.9MB/s eta 0:00:01\r\u001b[K     |████████████████████████▍       | 542kB 8.9MB/s eta 0:00:01\r\u001b[K     |████████████████████████▉       | 552kB 8.9MB/s eta 0:00:01\r\u001b[K     |█████████████████████████▎      | 563kB 8.9MB/s eta 0:00:01\r\u001b[K     |█████████████████████████▊      | 573kB 8.9MB/s eta 0:00:01\r\u001b[K     |██████████████████████████▎     | 583kB 8.9MB/s eta 0:00:01\r\u001b[K     |██████████████████████████▊     | 593kB 8.9MB/s eta 0:00:01\r\u001b[K     |███████████████████████████▏    | 604kB 8.9MB/s eta 0:00:01\r\u001b[K     |███████████████████████████▋    | 614kB 8.9MB/s eta 0:00:01\r\u001b[K     |████████████████████████████    | 624kB 8.9MB/s eta 0:00:01\r\u001b[K     |████████████████████████████▌   | 634kB 8.9MB/s eta 0:00:01\r\u001b[K     |█████████████████████████████   | 645kB 8.9MB/s eta 0:00:01\r\u001b[K     |█████████████████████████████▌  | 655kB 8.9MB/s eta 0:00:01\r\u001b[K     |██████████████████████████████  | 665kB 8.9MB/s eta 0:00:01\r\u001b[K     |██████████████████████████████▍ | 675kB 8.9MB/s eta 0:00:01\r\u001b[K     |██████████████████████████████▉ | 686kB 8.9MB/s eta 0:00:01\r\u001b[K     |███████████████████████████████▎| 696kB 8.9MB/s eta 0:00:01\r\u001b[K     |███████████████████████████████▊| 706kB 8.9MB/s eta 0:00:01\r\u001b[K     |████████████████████████████████| 716kB 8.9MB/s \n",
            "\u001b[?25hCollecting property-cached>=1.6.2\n",
            "  Downloading https://files.pythonhosted.org/packages/c0/11/6e91ff5fe0476492f023cebad434a1a34fc513cfa98ddb1f3e5c856d2d99/property_cached-1.6.3-py2.py3-none-any.whl\n",
            "Requirement already satisfied: statsmodels>=0.9 in /usr/local/lib/python3.6/dist-packages (from arch) (0.10.2)\n",
            "Requirement already satisfied: cython>=0.29 in /usr/local/lib/python3.6/dist-packages (from arch) (0.29.14)\n",
            "Requirement already satisfied: numpy>=1.14 in /usr/local/lib/python3.6/dist-packages (from arch) (1.17.5)\n",
            "Requirement already satisfied: pandas>=0.22 in /usr/local/lib/python3.6/dist-packages (from arch) (0.25.3)\n",
            "Requirement already satisfied: scipy>=1.0 in /usr/local/lib/python3.6/dist-packages (from arch) (1.4.1)\n",
            "Requirement already satisfied: patsy>=0.4.0 in /usr/local/lib/python3.6/dist-packages (from statsmodels>=0.9->arch) (0.5.1)\n",
            "Requirement already satisfied: python-dateutil>=2.6.1 in /usr/local/lib/python3.6/dist-packages (from pandas>=0.22->arch) (2.6.1)\n",
            "Requirement already satisfied: pytz>=2017.2 in /usr/local/lib/python3.6/dist-packages (from pandas>=0.22->arch) (2018.9)\n",
            "Requirement already satisfied: six in /usr/local/lib/python3.6/dist-packages (from patsy>=0.4.0->statsmodels>=0.9->arch) (1.12.0)\n",
            "Installing collected packages: property-cached, arch\n",
            "Successfully installed arch-4.11 property-cached-1.6.3\n",
            "Collecting pyflux\n",
            "\u001b[?25l  Downloading https://files.pythonhosted.org/packages/37/e2/ac8ea14d34556e83a9fe9e23ba7b02ca14951849b9637c238ca83d04ac3c/pyflux-0.4.15.tar.gz (1.3MB)\n",
            "\u001b[K     |████████████████████████████████| 1.3MB 8.9MB/s \n",
            "\u001b[?25hRequirement already satisfied: numpy in /usr/local/lib/python3.6/dist-packages (from pyflux) (1.17.5)\n",
            "Requirement already satisfied: pandas in /usr/local/lib/python3.6/dist-packages (from pyflux) (0.25.3)\n",
            "Requirement already satisfied: scipy in /usr/local/lib/python3.6/dist-packages (from pyflux) (1.4.1)\n",
            "Collecting numdifftools\n",
            "\u001b[?25l  Downloading https://files.pythonhosted.org/packages/ab/c0/b0d967160ecc8db52ae34e063937d85e8d386f140ad4826aae2086245a5e/numdifftools-0.9.39-py2.py3-none-any.whl (953kB)\n",
            "\u001b[K     |████████████████████████████████| 962kB 41.4MB/s \n",
            "\u001b[?25hRequirement already satisfied: patsy in /usr/local/lib/python3.6/dist-packages (from pyflux) (0.5.1)\n",
            "Requirement already satisfied: python-dateutil>=2.6.1 in /usr/local/lib/python3.6/dist-packages (from pandas->pyflux) (2.6.1)\n",
            "Requirement already satisfied: pytz>=2017.2 in /usr/local/lib/python3.6/dist-packages (from pandas->pyflux) (2018.9)\n",
            "Requirement already satisfied: six in /usr/local/lib/python3.6/dist-packages (from patsy->pyflux) (1.12.0)\n",
            "Building wheels for collected packages: pyflux\n",
            "  Building wheel for pyflux (setup.py) ... \u001b[?25l\u001b[?25hdone\n",
            "  Created wheel for pyflux: filename=pyflux-0.4.15-cp36-cp36m-linux_x86_64.whl size=4656516 sha256=59bef83b23763ef7e468a9a266d40f4ca08291ea4d7794c9952e2be1b5ab2087\n",
            "  Stored in directory: /root/.cache/pip/wheels/36/24/09/d18fa4f926cc90598d23ebd09fb4b0fd7b3dd1d2f506b952de\n",
            "Successfully built pyflux\n",
            "Installing collected packages: numdifftools, pyflux\n",
            "Successfully installed numdifftools-0.9.39 pyflux-0.4.15\n"
          ],
          "name": "stdout"
        }
      ]
    },
    {
      "cell_type": "code",
      "metadata": {
        "id": "Did64uvdrwf6",
        "colab_type": "code",
        "outputId": "32c157c2-a9f7-42b7-c9b6-123cfd4d9413",
        "colab": {
          "base_uri": "https://localhost:8080/",
          "height": 151
        }
      },
      "source": [
        "!git clone https://github.com/vmeylan/machine_learning_for_finance.git"
      ],
      "execution_count": 3,
      "outputs": [
        {
          "output_type": "stream",
          "text": [
            "Cloning into 'machine_learning_for_finance'...\n",
            "remote: Enumerating objects: 85, done.\u001b[K\n",
            "remote: Counting objects: 100% (85/85), done.\u001b[K\n",
            "remote: Compressing objects: 100% (68/68), done.\u001b[K\n",
            "remote: Total 180 (delta 37), reused 41 (delta 15), pack-reused 95\u001b[K\n",
            "Receiving objects: 100% (180/180), 87.58 MiB | 20.17 MiB/s, done.\n",
            "Resolving deltas: 100% (63/63), done.\n",
            "Checking out files: 100% (28/28), done.\n"
          ],
          "name": "stdout"
        }
      ]
    },
    {
      "cell_type": "markdown",
      "metadata": {
        "id": "vp1SVRz1rjrI",
        "colab_type": "text"
      },
      "source": [
        "### Data Analysis"
      ]
    },
    {
      "cell_type": "code",
      "metadata": {
        "id": "WF1ZIskzro6g",
        "colab_type": "code",
        "colab": {}
      },
      "source": [
        "data = pd.read_csv('machine_learning_for_finance/data/preprocessed_data/theta.csv').drop(['Unnamed: 0', '_INTERCEPT', '_REALIZED_VOL', '_VOL_PROXY', '_NEGATIVE_RETURNS', '_BTC_REALIZED_VOL', '_BTC_VOL_PROXY','BTC_low', 'BTC_high', 'high', 'low', '_BTC_NEGATIVE_RETURNS', 'time'], axis=1)"
      ],
      "execution_count": 0,
      "outputs": []
    },
    {
      "cell_type": "code",
      "metadata": {
        "id": "2nvDO7iurdJh",
        "colab_type": "code",
        "outputId": "eb4cdbff-4f82-497f-8f7b-73524f691570",
        "colab": {
          "base_uri": "https://localhost:8080/",
          "height": 195
        }
      },
      "source": [
        "data.head()"
      ],
      "execution_count": 5,
      "outputs": [
        {
          "output_type": "execute_result",
          "data": {
            "text/html": [
              "<div>\n",
              "<style scoped>\n",
              "    .dataframe tbody tr th:only-of-type {\n",
              "        vertical-align: middle;\n",
              "    }\n",
              "\n",
              "    .dataframe tbody tr th {\n",
              "        vertical-align: top;\n",
              "    }\n",
              "\n",
              "    .dataframe thead th {\n",
              "        text-align: right;\n",
              "    }\n",
              "</style>\n",
              "<table border=\"1\" class=\"dataframe\">\n",
              "  <thead>\n",
              "    <tr style=\"text-align: right;\">\n",
              "      <th></th>\n",
              "      <th>BTC_close</th>\n",
              "      <th>BTC_volume</th>\n",
              "      <th>_BTC_RETURNS</th>\n",
              "      <th>_TO_EXCHANGE_TRANSACTIONS</th>\n",
              "      <th>_FROM_EXCHANGE_TRANSACTIONS</th>\n",
              "      <th>_ONCHAIN_TRANSACTIONS</th>\n",
              "      <th>_ONCHAIN_VOLUME</th>\n",
              "      <th>close</th>\n",
              "      <th>volume</th>\n",
              "      <th>_RETURNS</th>\n",
              "    </tr>\n",
              "  </thead>\n",
              "  <tbody>\n",
              "    <tr>\n",
              "      <th>0</th>\n",
              "      <td>9454.60</td>\n",
              "      <td>6.434511e+08</td>\n",
              "      <td>0.102112</td>\n",
              "      <td>20</td>\n",
              "      <td>55</td>\n",
              "      <td>75</td>\n",
              "      <td>4.012353e+24</td>\n",
              "      <td>0.000014</td>\n",
              "      <td>293.24</td>\n",
              "      <td>0.018458</td>\n",
              "    </tr>\n",
              "    <tr>\n",
              "      <th>1</th>\n",
              "      <td>10029.51</td>\n",
              "      <td>8.262557e+08</td>\n",
              "      <td>0.059030</td>\n",
              "      <td>13</td>\n",
              "      <td>52</td>\n",
              "      <td>65</td>\n",
              "      <td>2.382509e+24</td>\n",
              "      <td>0.000014</td>\n",
              "      <td>455.06</td>\n",
              "      <td>0.024568</td>\n",
              "    </tr>\n",
              "    <tr>\n",
              "      <th>2</th>\n",
              "      <td>10163.05</td>\n",
              "      <td>6.718616e+08</td>\n",
              "      <td>0.013227</td>\n",
              "      <td>17</td>\n",
              "      <td>74</td>\n",
              "      <td>91</td>\n",
              "      <td>1.821926e+24</td>\n",
              "      <td>0.000014</td>\n",
              "      <td>289.64</td>\n",
              "      <td>-0.012931</td>\n",
              "    </tr>\n",
              "    <tr>\n",
              "      <th>3</th>\n",
              "      <td>11040.00</td>\n",
              "      <td>7.879111e+08</td>\n",
              "      <td>0.082766</td>\n",
              "      <td>7</td>\n",
              "      <td>43</td>\n",
              "      <td>50</td>\n",
              "      <td>9.719927e+23</td>\n",
              "      <td>0.000015</td>\n",
              "      <td>423.71</td>\n",
              "      <td>0.089839</td>\n",
              "    </tr>\n",
              "    <tr>\n",
              "      <th>4</th>\n",
              "      <td>10380.06</td>\n",
              "      <td>9.898472e+08</td>\n",
              "      <td>-0.061638</td>\n",
              "      <td>4</td>\n",
              "      <td>128</td>\n",
              "      <td>132</td>\n",
              "      <td>9.691477e+24</td>\n",
              "      <td>0.000016</td>\n",
              "      <td>426.84</td>\n",
              "      <td>0.060275</td>\n",
              "    </tr>\n",
              "  </tbody>\n",
              "</table>\n",
              "</div>"
            ],
            "text/plain": [
              "   BTC_close    BTC_volume  _BTC_RETURNS  ...     close  volume  _RETURNS\n",
              "0    9454.60  6.434511e+08      0.102112  ...  0.000014  293.24  0.018458\n",
              "1   10029.51  8.262557e+08      0.059030  ...  0.000014  455.06  0.024568\n",
              "2   10163.05  6.718616e+08      0.013227  ...  0.000014  289.64 -0.012931\n",
              "3   11040.00  7.879111e+08      0.082766  ...  0.000015  423.71  0.089839\n",
              "4   10380.06  9.898472e+08     -0.061638  ...  0.000016  426.84  0.060275\n",
              "\n",
              "[5 rows x 10 columns]"
            ]
          },
          "metadata": {
            "tags": []
          },
          "execution_count": 5
        }
      ]
    },
    {
      "cell_type": "code",
      "metadata": {
        "id": "DNcrzQFBupDx",
        "colab_type": "code",
        "outputId": "4c40cc79-0934-41d8-90ec-ed4aba07252a",
        "colab": {
          "base_uri": "https://localhost:8080/",
          "height": 84
        }
      },
      "source": [
        "data.columns"
      ],
      "execution_count": 6,
      "outputs": [
        {
          "output_type": "execute_result",
          "data": {
            "text/plain": [
              "Index(['BTC_close', 'BTC_volume', '_BTC_RETURNS', '_TO_EXCHANGE_TRANSACTIONS',\n",
              "       '_FROM_EXCHANGE_TRANSACTIONS', '_ONCHAIN_TRANSACTIONS',\n",
              "       '_ONCHAIN_VOLUME', 'close', 'volume', '_RETURNS'],\n",
              "      dtype='object')"
            ]
          },
          "metadata": {
            "tags": []
          },
          "execution_count": 6
        }
      ]
    },
    {
      "cell_type": "code",
      "metadata": {
        "id": "YyuR9JGt38kD",
        "colab_type": "code",
        "colab": {}
      },
      "source": [
        "data.loc[:,'VOL'] = (data._RETURNS**2).ewm(halflife=10).mean()\n",
        "data.loc[:,'_FROM_EXCHANGE_EWMA'] = (data._FROM_EXCHANGE_TRANSACTIONS**2).ewm(halflife=10).mean()"
      ],
      "execution_count": 0,
      "outputs": []
    },
    {
      "cell_type": "code",
      "metadata": {
        "id": "uFRzEuD23HkZ",
        "colab_type": "code",
        "outputId": "9a9a13e1-6b69-47c3-c4f4-93714f18e966",
        "colab": {
          "base_uri": "https://localhost:8080/",
          "height": 298
        }
      },
      "source": [
        "plt.plot((data._RETURNS**2).ewm(halflife=10).mean())\n",
        "plt.title('EW volatility vs. number of trading days elapsed of Theta')\n"
      ],
      "execution_count": 8,
      "outputs": [
        {
          "output_type": "execute_result",
          "data": {
            "text/plain": [
              "Text(0.5, 1.0, 'EW volatility vs. number of trading days elapsed of Theta')"
            ]
          },
          "metadata": {
            "tags": []
          },
          "execution_count": 8
        },
        {
          "output_type": "display_data",
          "data": {
            "image/png": "[encoded data removed]",
            "text/plain": [
              "<Figure size 432x288 with 1 Axes>"
            ]
          },
          "metadata": {
            "tags": []
          }
        }
      ]
    },
    {
      "cell_type": "code",
      "metadata": {
        "id": "IgYSI2lQsOVw",
        "colab_type": "code",
        "outputId": "1a44f38b-6b63-4124-f5e6-fd308cd6960c",
        "colab": {
          "base_uri": "https://localhost:8080/",
          "height": 791
        }
      },
      "source": [
        "import numpy as np\n",
        "import pandas as pd\n",
        "import seaborn as sns\n",
        "import matplotlib.pyplot as plt\n",
        "\n",
        "sns.set(style=\"white\")\n",
        "\n",
        "# Compute the correlation matrix\n",
        "corr = data.corr()\n",
        "\n",
        "# Generate a mask for the upper triangle\n",
        "mask = np.zeros_like(corr, dtype=np.bool)\n",
        "mask[np.triu_indices_from(mask)] = True\n",
        "\n",
        "# Set up the matplotlib figure\n",
        "f, ax = plt.subplots(figsize=(11, 9))\n",
        "\n",
        "# Generate a custom diverging colormap\n",
        "cmap = sns.diverging_palette(220, 10, as_cmap=True)\n",
        "\n",
        "# Draw the heatmap with the mask and correct aspect ratio\n",
        "sns.heatmap(corr, mask=mask, cmap=cmap, vmax=1, center=0, vmin=-1,\n",
        "            square=True, linewidths=.5, cbar_kws={\"shrink\": .5})\n",
        "plt.suptitle('Correlation matrix of the variables, THETA token')\n",
        "\n",
        "pass"
      ],
      "execution_count": 9,
      "outputs": [
        {
          "output_type": "display_data",
          "data": {
            "image/png": "[encoded data removed]",
            "text/plain": [
              "<Figure size 792x648 with 2 Axes>"
            ]
          },
          "metadata": {
            "tags": []
          }
        }
      ]
    },
    {
      "cell_type": "code",
      "metadata": {
        "id": "CtrybRaeYMxT",
        "colab_type": "code",
        "colab": {}
      },
      "source": [
        "data = data.loc[~data.isna().any(axis=1)] # drop NaN rows"
      ],
      "execution_count": 0,
      "outputs": []
    },
    {
      "cell_type": "code",
      "metadata": {
        "id": "B6IiG_Cr6Kpo",
        "colab_type": "code",
        "colab": {}
      },
      "source": [
        "X = data.drop('VOL', axis=1)\n",
        "y = data.VOL"
      ],
      "execution_count": 0,
      "outputs": []
    },
    {
      "cell_type": "code",
      "metadata": {
        "colab_type": "code",
        "id": "_bKGn6cp6Ful",
        "colab": {}
      },
      "source": [
        "import sklearn\n",
        "from sklearn.model_selection import train_test_split\n",
        "\n",
        "X_train, X_test, y_train, y_test = train_test_split(X,y,test_size=0.33, random_state=2, shuffle=True)"
      ],
      "execution_count": 0,
      "outputs": []
    },
    {
      "cell_type": "markdown",
      "metadata": {
        "colab_type": "text",
        "id": "bxPHqsqk6FCn"
      },
      "source": [
        "### *) Statistical Significance"
      ]
    },
    {
      "cell_type": "code",
      "metadata": {
        "colab_type": "code",
        "id": "CiW3a1Bb5_39",
        "outputId": "d36184c8-e6b1-4881-9ea2-297317eae67c",
        "colab": {
          "base_uri": "https://localhost:8080/",
          "height": 336
        }
      },
      "source": [
        "# Computation of the F scores for each feature to see which features are statistically significant\n",
        "\n",
        "from sklearn.feature_selection import f_regression\n",
        "\n",
        "p_val = f_regression(X, y)[1]\n",
        "p_val_table = pd.DataFrame({'p_val':p_val,\n",
        "              'column_name': data.drop(['_RETURNS'], axis=1).columns}).sort_values('p_val')\n",
        "display('Statistical significance to predict returns^2')\n",
        "print(p_val_table.to_latex(index=False))"
      ],
      "execution_count": 13,
      "outputs": [
        {
          "output_type": "display_data",
          "data": {
            "text/plain": [
              "'Statistical significance to predict returns^2'"
            ]
          },
          "metadata": {
            "tags": []
          }
        },
        {
          "output_type": "stream",
          "text": [
            "\\begin{tabular}{rl}\n",
            "\\toprule\n",
            "        p\\_val &                  column\\_name \\\\\n",
            "\\midrule\n",
            " 4.425589e-57 &          \\_FROM\\_EXCHANGE\\_EWMA \\\\\n",
            " 1.318101e-35 &  \\_FROM\\_EXCHANGE\\_TRANSACTIONS \\\\\n",
            " 1.526385e-33 &        \\_ONCHAIN\\_TRANSACTIONS \\\\\n",
            " 2.823795e-27 &              \\_ONCHAIN\\_VOLUME \\\\\n",
            " 1.143198e-23 &                       volume \\\\\n",
            " 2.539673e-20 &    \\_TO\\_EXCHANGE\\_TRANSACTIONS \\\\\n",
            " 5.623396e-18 &                        close \\\\\n",
            " 9.649668e-03 &                   BTC\\_volume \\\\\n",
            " 5.304122e-02 &                    BTC\\_close \\\\\n",
            " 1.077041e-01 &                 \\_BTC\\_RETURNS \\\\\n",
            " 1.599883e-01 &                          VOL \\\\\n",
            "\\bottomrule\n",
            "\\end{tabular}\n",
            "\n"
          ],
          "name": "stdout"
        }
      ]
    },
    {
      "cell_type": "code",
      "metadata": {
        "colab_type": "code",
        "id": "NX1LYMn15-gn",
        "colab": {}
      },
      "source": [
        "import sklearn\n",
        "from sklearn.model_selection import train_test_split\n",
        "\n",
        "X_train, X_test, y_train, y_test = train_test_split(X,y,test_size=0.33, random_state=2, shuffle=True)"
      ],
      "execution_count": 0,
      "outputs": []
    },
    {
      "cell_type": "markdown",
      "metadata": {
        "id": "8qTSVnQy7K1F",
        "colab_type": "text"
      },
      "source": [
        "There are too many variables for the model to predict correctly with the amount of data (800 observations). This is called overfitting. We will fit simpler models."
      ]
    },
    {
      "cell_type": "code",
      "metadata": {
        "id": "ehhCKDql7KAd",
        "colab_type": "code",
        "outputId": "c2bd90fa-f828-4935-df82-df30cad0079b",
        "colab": {
          "base_uri": "https://localhost:8080/",
          "height": 235
        }
      },
      "source": [
        "from sklearn.linear_model import LinearRegression\n",
        "from sklearn.model_selection import GridSearchCV\n",
        "\n",
        "print('R2 for a Linear Regression with one variable only')\n",
        "print('=================================================')\n",
        "def LR_results(variable):\n",
        "\n",
        "  X = (data.loc[:, variable].values.reshape(-1,1))\n",
        "\n",
        "  reg = LinearRegression()\n",
        "\n",
        "\n",
        "  reg.fit(X,y)\n",
        "  \n",
        "\n",
        "  return reg.score(X,y)\n",
        "\n",
        "\n",
        "for variable in data.columns:\n",
        "  if variable == 'VOL':\n",
        "    continue\n",
        "  print(' {:.2f} - {}'.format(LR_results(variable), variable))"
      ],
      "execution_count": 15,
      "outputs": [
        {
          "output_type": "stream",
          "text": [
            "R2 for a Linear Regression with one variable only\n",
            "=================================================\n",
            " 0.01 - BTC_close\n",
            " 0.01 - BTC_volume\n",
            " 0.00 - _BTC_RETURNS\n",
            " 0.15 - _TO_EXCHANGE_TRANSACTIONS\n",
            " 0.25 - _FROM_EXCHANGE_TRANSACTIONS\n",
            " 0.23 - _ONCHAIN_TRANSACTIONS\n",
            " 0.19 - _ONCHAIN_VOLUME\n",
            " 0.13 - close\n",
            " 0.17 - volume\n",
            " 0.00 - _RETURNS\n",
            " 0.37 - _FROM_EXCHANGE_EWMA\n"
          ],
          "name": "stdout"
        }
      ]
    },
    {
      "cell_type": "code",
      "metadata": {
        "id": "fO8PmARTdXFN",
        "colab_type": "code",
        "outputId": "d91a09df-9b57-4736-9801-b3f796459771",
        "colab": {
          "base_uri": "https://localhost:8080/",
          "height": 286
        }
      },
      "source": [
        "df = pd.DataFrame([[0.01, 'BTC_close'],\n",
        " [0.00,'BTC_volume'],\n",
        " [0.00, '_BTC_RETURNS'],\n",
        " [0.15, '_TO_EXCHANGE_TRANSACTIONS'],\n",
        " [0.25, '_FROM_EXCHANGE_TRANSACTIONS'],\n",
        " [0.23, '_ONCHAIN_TRANSACTIONS'],\n",
        " [0.19, '_ONCHAIN_VOLUME'],\n",
        " [0.13 ,'close'],\n",
        " [0.17, 'volume']])\n",
        "print(df.to_latex(index=False))"
      ],
      "execution_count": 16,
      "outputs": [
        {
          "output_type": "stream",
          "text": [
            "\\begin{tabular}{rl}\n",
            "\\toprule\n",
            "    0 &                            1 \\\\\n",
            "\\midrule\n",
            " 0.01 &                    BTC\\_close \\\\\n",
            " 0.00 &                   BTC\\_volume \\\\\n",
            " 0.00 &                 \\_BTC\\_RETURNS \\\\\n",
            " 0.15 &    \\_TO\\_EXCHANGE\\_TRANSACTIONS \\\\\n",
            " 0.25 &  \\_FROM\\_EXCHANGE\\_TRANSACTIONS \\\\\n",
            " 0.23 &        \\_ONCHAIN\\_TRANSACTIONS \\\\\n",
            " 0.19 &              \\_ONCHAIN\\_VOLUME \\\\\n",
            " 0.13 &                        close \\\\\n",
            " 0.17 &                       volume \\\\\n",
            "\\bottomrule\n",
            "\\end{tabular}\n",
            "\n"
          ],
          "name": "stdout"
        }
      ]
    },
    {
      "cell_type": "code",
      "metadata": {
        "id": "p6YnluXU8p1R",
        "colab_type": "code",
        "outputId": "9d7fa737-7516-44ba-b5da-1c167a128eb1",
        "colab": {
          "base_uri": "https://localhost:8080/",
          "height": 551
        }
      },
      "source": [
        "plt.plot(data.BTC_close, data.VOL, 'r+')\n",
        "plt.title('VOL vs. BTC_close')\n",
        "plt.figure()\n",
        "plt.plot(data._FROM_EXCHANGE_TRANSACTIONS, data.VOL, 'r+')\n",
        "plt.title('VOL vs. _FROM_EXCHANGE_TRANSACTIONS')\n",
        "plt.xlim((0,1500))\n",
        "pass"
      ],
      "execution_count": 17,
      "outputs": [
        {
          "output_type": "display_data",
          "data": {
            "image/png": "[encoded data removed]",
            "text/plain": [
              "<Figure size 432x288 with 1 Axes>"
            ]
          },
          "metadata": {
            "tags": []
          }
        },
        {
          "output_type": "display_data",
          "data": {
            "image/png": "[encoded data removed]",
            "text/plain": [
              "<Figure size 432x288 with 1 Axes>"
            ]
          },
          "metadata": {
            "tags": []
          }
        }
      ]
    },
    {
      "cell_type": "markdown",
      "metadata": {
        "id": "JO8jERyUnsiW",
        "colab_type": "text"
      },
      "source": [
        "### *) Comparison with Volatility arima model"
      ]
    },
    {
      "cell_type": "code",
      "metadata": {
        "id": "eYG_V2s97lCJ",
        "colab_type": "code",
        "outputId": "3cde62c3-ef75-4055-ce6e-6ecc8ffddefc",
        "colab": {
          "base_uri": "https://localhost:8080/",
          "height": 422
        }
      },
      "source": [
        "data"
      ],
      "execution_count": 18,
      "outputs": [
        {
          "output_type": "execute_result",
          "data": {
            "text/html": [
              "<div>\n",
              "<style scoped>\n",
              "    .dataframe tbody tr th:only-of-type {\n",
              "        vertical-align: middle;\n",
              "    }\n",
              "\n",
              "    .dataframe tbody tr th {\n",
              "        vertical-align: top;\n",
              "    }\n",
              "\n",
              "    .dataframe thead th {\n",
              "        text-align: right;\n",
              "    }\n",
              "</style>\n",
              "<table border=\"1\" class=\"dataframe\">\n",
              "  <thead>\n",
              "    <tr style=\"text-align: right;\">\n",
              "      <th></th>\n",
              "      <th>BTC_close</th>\n",
              "      <th>BTC_volume</th>\n",
              "      <th>_BTC_RETURNS</th>\n",
              "      <th>_TO_EXCHANGE_TRANSACTIONS</th>\n",
              "      <th>_FROM_EXCHANGE_TRANSACTIONS</th>\n",
              "      <th>_ONCHAIN_TRANSACTIONS</th>\n",
              "      <th>_ONCHAIN_VOLUME</th>\n",
              "      <th>close</th>\n",
              "      <th>volume</th>\n",
              "      <th>_RETURNS</th>\n",
              "      <th>VOL</th>\n",
              "      <th>_FROM_EXCHANGE_EWMA</th>\n",
              "    </tr>\n",
              "  </thead>\n",
              "  <tbody>\n",
              "    <tr>\n",
              "      <th>0</th>\n",
              "      <td>9454.60</td>\n",
              "      <td>6.434511e+08</td>\n",
              "      <td>0.102112</td>\n",
              "      <td>20</td>\n",
              "      <td>55</td>\n",
              "      <td>75</td>\n",
              "      <td>4.012353e+24</td>\n",
              "      <td>0.000014</td>\n",
              "      <td>293.24</td>\n",
              "      <td>0.018458</td>\n",
              "      <td>0.000341</td>\n",
              "      <td>3025.000000</td>\n",
              "    </tr>\n",
              "    <tr>\n",
              "      <th>1</th>\n",
              "      <td>10029.51</td>\n",
              "      <td>8.262557e+08</td>\n",
              "      <td>0.059030</td>\n",
              "      <td>13</td>\n",
              "      <td>52</td>\n",
              "      <td>65</td>\n",
              "      <td>2.382509e+24</td>\n",
              "      <td>0.000014</td>\n",
              "      <td>455.06</td>\n",
              "      <td>0.024568</td>\n",
              "      <td>0.000477</td>\n",
              "      <td>2858.939720</td>\n",
              "    </tr>\n",
              "    <tr>\n",
              "      <th>2</th>\n",
              "      <td>10163.05</td>\n",
              "      <td>6.718616e+08</td>\n",
              "      <td>0.013227</td>\n",
              "      <td>17</td>\n",
              "      <td>74</td>\n",
              "      <td>91</td>\n",
              "      <td>1.821926e+24</td>\n",
              "      <td>0.000014</td>\n",
              "      <td>289.64</td>\n",
              "      <td>-0.012931</td>\n",
              "      <td>0.000366</td>\n",
              "      <td>3792.409413</td>\n",
              "    </tr>\n",
              "    <tr>\n",
              "      <th>3</th>\n",
              "      <td>11040.00</td>\n",
              "      <td>7.879111e+08</td>\n",
              "      <td>0.082766</td>\n",
              "      <td>7</td>\n",
              "      <td>43</td>\n",
              "      <td>50</td>\n",
              "      <td>9.719927e+23</td>\n",
              "      <td>0.000015</td>\n",
              "      <td>423.71</td>\n",
              "      <td>0.089839</td>\n",
              "      <td>0.002497</td>\n",
              "      <td>3254.937736</td>\n",
              "    </tr>\n",
              "    <tr>\n",
              "      <th>4</th>\n",
              "      <td>10380.06</td>\n",
              "      <td>9.898472e+08</td>\n",
              "      <td>-0.061638</td>\n",
              "      <td>4</td>\n",
              "      <td>128</td>\n",
              "      <td>132</td>\n",
              "      <td>9.691477e+24</td>\n",
              "      <td>0.000016</td>\n",
              "      <td>426.84</td>\n",
              "      <td>0.060275</td>\n",
              "      <td>0.002757</td>\n",
              "      <td>6256.762180</td>\n",
              "    </tr>\n",
              "    <tr>\n",
              "      <th>...</th>\n",
              "      <td>...</td>\n",
              "      <td>...</td>\n",
              "      <td>...</td>\n",
              "      <td>...</td>\n",
              "      <td>...</td>\n",
              "      <td>...</td>\n",
              "      <td>...</td>\n",
              "      <td>...</td>\n",
              "      <td>...</td>\n",
              "      <td>...</td>\n",
              "      <td>...</td>\n",
              "      <td>...</td>\n",
              "    </tr>\n",
              "    <tr>\n",
              "      <th>542</th>\n",
              "      <td>11307.69</td>\n",
              "      <td>2.940053e+09</td>\n",
              "      <td>-0.049424</td>\n",
              "      <td>0</td>\n",
              "      <td>0</td>\n",
              "      <td>0</td>\n",
              "      <td>0.000000e+00</td>\n",
              "      <td>0.000010</td>\n",
              "      <td>27.61</td>\n",
              "      <td>0.052273</td>\n",
              "      <td>0.002840</td>\n",
              "      <td>11.709477</td>\n",
              "    </tr>\n",
              "    <tr>\n",
              "      <th>543</th>\n",
              "      <td>11555.86</td>\n",
              "      <td>2.167326e+09</td>\n",
              "      <td>0.021710</td>\n",
              "      <td>0</td>\n",
              "      <td>0</td>\n",
              "      <td>0</td>\n",
              "      <td>0.000000e+00</td>\n",
              "      <td>0.000010</td>\n",
              "      <td>35.23</td>\n",
              "      <td>-0.000980</td>\n",
              "      <td>0.002650</td>\n",
              "      <td>10.925329</td>\n",
              "    </tr>\n",
              "    <tr>\n",
              "      <th>544</th>\n",
              "      <td>11392.42</td>\n",
              "      <td>2.118033e+09</td>\n",
              "      <td>-0.014244</td>\n",
              "      <td>0</td>\n",
              "      <td>0</td>\n",
              "      <td>0</td>\n",
              "      <td>0.000000e+00</td>\n",
              "      <td>0.000011</td>\n",
              "      <td>95.25</td>\n",
              "      <td>0.098869</td>\n",
              "      <td>0.003127</td>\n",
              "      <td>10.193692</td>\n",
              "    </tr>\n",
              "    <tr>\n",
              "      <th>545</th>\n",
              "      <td>10893.15</td>\n",
              "      <td>2.791755e+09</td>\n",
              "      <td>-0.044814</td>\n",
              "      <td>0</td>\n",
              "      <td>0</td>\n",
              "      <td>0</td>\n",
              "      <td>0.000000e+00</td>\n",
              "      <td>0.000011</td>\n",
              "      <td>55.61</td>\n",
              "      <td>-0.027004</td>\n",
              "      <td>0.002967</td>\n",
              "      <td>9.511051</td>\n",
              "    </tr>\n",
              "    <tr>\n",
              "      <th>546</th>\n",
              "      <td>10048.64</td>\n",
              "      <td>3.724257e+09</td>\n",
              "      <td>-0.080697</td>\n",
              "      <td>0</td>\n",
              "      <td>0</td>\n",
              "      <td>0</td>\n",
              "      <td>0.000000e+00</td>\n",
              "      <td>0.000011</td>\n",
              "      <td>51.10</td>\n",
              "      <td>-0.021209</td>\n",
              "      <td>0.002798</td>\n",
              "      <td>8.874124</td>\n",
              "    </tr>\n",
              "  </tbody>\n",
              "</table>\n",
              "<p>547 rows × 12 columns</p>\n",
              "</div>"
            ],
            "text/plain": [
              "     BTC_close    BTC_volume  ...       VOL  _FROM_EXCHANGE_EWMA\n",
              "0      9454.60  6.434511e+08  ...  0.000341          3025.000000\n",
              "1     10029.51  8.262557e+08  ...  0.000477          2858.939720\n",
              "2     10163.05  6.718616e+08  ...  0.000366          3792.409413\n",
              "3     11040.00  7.879111e+08  ...  0.002497          3254.937736\n",
              "4     10380.06  9.898472e+08  ...  0.002757          6256.762180\n",
              "..         ...           ...  ...       ...                  ...\n",
              "542   11307.69  2.940053e+09  ...  0.002840            11.709477\n",
              "543   11555.86  2.167326e+09  ...  0.002650            10.925329\n",
              "544   11392.42  2.118033e+09  ...  0.003127            10.193692\n",
              "545   10893.15  2.791755e+09  ...  0.002967             9.511051\n",
              "546   10048.64  3.724257e+09  ...  0.002798             8.874124\n",
              "\n",
              "[547 rows x 12 columns]"
            ]
          },
          "metadata": {
            "tags": []
          },
          "execution_count": 18
        }
      ]
    },
    {
      "cell_type": "code",
      "metadata": {
        "id": "7GY1LNAHQ9TJ",
        "colab_type": "code",
        "outputId": "40a972e8-9a97-44fe-da69-27e4f8ce9ae1",
        "colab": {
          "base_uri": "https://localhost:8080/",
          "height": 34
        }
      },
      "source": [
        "data.shape, y.shape"
      ],
      "execution_count": 19,
      "outputs": [
        {
          "output_type": "execute_result",
          "data": {
            "text/plain": [
              "((547, 12), (547,))"
            ]
          },
          "metadata": {
            "tags": []
          },
          "execution_count": 19
        }
      ]
    },
    {
      "cell_type": "code",
      "metadata": {
        "id": "adqKD6gEZIdf",
        "colab_type": "code",
        "colab": {}
      },
      "source": [
        "r = (data.VOL.shift(1) - data.VOL ) \n",
        "r[0]=0"
      ],
      "execution_count": 0,
      "outputs": []
    },
    {
      "cell_type": "code",
      "metadata": {
        "id": "7eB-Jb7GYIJX",
        "colab_type": "code",
        "outputId": "ed4a9ed5-9977-448a-b39e-4826fe5ff895",
        "colab": {
          "base_uri": "https://localhost:8080/",
          "height": 1000
        }
      },
      "source": [
        "# As the VOL process is clearly integrated we will take the first difference\n",
        "\n",
        "r = data.VOL\n",
        "from statsmodels.graphics.tsaplots import plot_pacf\n",
        "from statsmodels.graphics.tsaplots import plot_acf\n",
        "\n",
        "plot_pacf(r, lags=list(range(1,48)))\n",
        "plt.title('Partial Autocorrelation of VOL (starting at 1 lag)')\n",
        "plt.show()\n",
        "plot_acf(r, lags=list(range(1,48)))\n",
        "plt.title('Autocorrelation of VOL (starting at 1 lag)')\n",
        "plt.show()\n",
        "\n",
        "r = (data.VOL.shift(1) - data.VOL ) \n",
        "r[0]=0\n",
        "from statsmodels.graphics.tsaplots import plot_pacf\n",
        "from statsmodels.graphics.tsaplots import plot_acf\n",
        "\n",
        "plot_pacf(r, lags=list(range(1,48)))\n",
        "plt.title('Partial Autocorrelation of first difference of VOL (starting at 1 lag)')\n",
        "plt.show()\n",
        "plot_acf(r, lags=list(range(1,48)))\n",
        "plt.title('Autocorrelation of first difference of VOL (starting at 1 lag)')\n",
        "plt.show()\n"
      ],
      "execution_count": 21,
      "outputs": [
        {
          "output_type": "display_data",
          "data": {
            "image/png": "[encoded data removed]",
            "text/plain": [
              "<Figure size 432x288 with 1 Axes>"
            ]
          },
          "metadata": {
            "tags": []
          }
        },
        {
          "output_type": "display_data",
          "data": {
            "image/png": "[encoded data removed]",
            "text/plain": [
              "<Figure size 432x288 with 1 Axes>"
            ]
          },
          "metadata": {
            "tags": []
          }
        },
        {
          "output_type": "display_data",
          "data": {
            "image/png": "[encoded data removed]",
            "text/plain": [
              "<Figure size 432x288 with 1 Axes>"
            ]
          },
          "metadata": {
            "tags": []
          }
        },
        {
          "output_type": "display_data",
          "data": {
            "image/png": "[encoded data removed]",
            "text/plain": [
              "<Figure size 432x288 with 1 Axes>"
            ]
          },
          "metadata": {
            "tags": []
          }
        }
      ]
    },
    {
      "cell_type": "code",
      "metadata": {
        "id": "xv6YS9KAaOBh",
        "colab_type": "code",
        "outputId": "81dc5def-0d26-46a1-983e-3ee04f02c60b",
        "colab": {
          "base_uri": "https://localhost:8080/",
          "height": 286
        }
      },
      "source": [
        "# ARIMAX model with the stat significant variables.\n",
        "import  copy\n",
        "data_temp = copy.copy(data)\n",
        "data_temp.loc[:,'_RETURNS_2'] = y**2\n",
        "df = data_temp\n",
        "normalized_df=(df-df.mean())/df.std()\n",
        "model = pf.ARIMAX(data=normalized_df, formula='VOL~1+BTC_close+volume',\n",
        "                  ar=1,ma=1, integ=1, family=pf.Normal())\n",
        "x = model.fit(\"MLE\")\n",
        "x.summary()"
      ],
      "execution_count": 22,
      "outputs": [
        {
          "output_type": "stream",
          "text": [
            "Normal ARIMAX(1,1,1)                                                                                      \n",
            "======================================================= ==================================================\n",
            "Dependent Variable: Differenced VOL                     Method: MLE                                       \n",
            "Start Date: 1                                           Log Likelihood: -154.8666                         \n",
            "End Date: 546                                           AIC: 321.7332                                     \n",
            "Number of observations: 545                             BIC: 347.5379                                     \n",
            "==========================================================================================================\n",
            "Latent Variable                          Estimate   Std Error  z        P>|z|    95% C.I.                 \n",
            "======================================== ========== ========== ======== ======== =========================\n",
            "AR(1)                                    -0.3687    0.0739     -4.9859  0.0      (-0.5136 | -0.2237)      \n",
            "MA(1)                                    0.4568     0.0715     6.3904   0.0      (0.3167 | 0.5969)        \n",
            "Beta 1                                   0.0014     0.02       0.0705   0.9438   (-0.0379 | 0.0407)       \n",
            "Beta BTC_close                           0.0389     0.0201     1.9344   0.0531   (-0.0005 | 0.0784)       \n",
            "Beta volume                              0.1588     0.0163     9.7507   0.0      (0.1269 | 0.1907)        \n",
            "Normal Scale                             0.3215                                                           \n",
            "==========================================================================================================\n"
          ],
          "name": "stdout"
        }
      ]
    },
    {
      "cell_type": "code",
      "metadata": {
        "id": "4whmKfpu65dw",
        "colab_type": "code",
        "outputId": "a0ec9ada-52f6-4843-b9a7-f711df265e82",
        "colab": {
          "base_uri": "https://localhost:8080/",
          "height": 336
        }
      },
      "source": [
        "# ARIMAX model with the most correlated variables.\n",
        "import  copy\n",
        "data_temp = copy.copy(data)\n",
        "data_temp.loc[:,'_RETURNS_2'] = y**2\n",
        "df = data_temp\n",
        "normalized_df=(df-df.mean())/df.std()\n",
        "model = pf.ARIMAX(data=normalized_df, formula='VOL~1+_TO_EXCHANGE_TRANSACTIONS+_FROM_EXCHANGE_TRANSACTIONS+BTC_close+volume+_BTC_RETURNS',\n",
        "                  ar=1,ma=1,integ=1, family=pf.Normal())\n",
        "x = model.fit(\"MLE\")\n",
        "x.summary()"
      ],
      "execution_count": 23,
      "outputs": [
        {
          "output_type": "stream",
          "text": [
            "Normal ARIMAX(1,1,1)                                                                                      \n",
            "======================================================= ==================================================\n",
            "Dependent Variable: Differenced VOL                     Method: MLE                                       \n",
            "Start Date: 1                                           Log Likelihood: -150.4435                         \n",
            "End Date: 546                                           AIC: 318.887                                      \n",
            "Number of observations: 545                             BIC: 357.5941                                     \n",
            "==========================================================================================================\n",
            "Latent Variable                          Estimate   Std Error  z        P>|z|    95% C.I.                 \n",
            "======================================== ========== ========== ======== ======== =========================\n",
            "AR(1)                                    -0.3679    0.0875     -4.2058  0.0      (-0.5393 | -0.1964)      \n",
            "MA(1)                                    0.4432     0.077      5.7558   0.0      (0.2923 | 0.5941)        \n",
            "Beta 1                                   0.0015     0.0197     0.0745   0.9406   (-0.0371 | 0.0401)       \n",
            "Beta _TO_EXCHANGE_TRANSACTIONS           0.0686     0.0252     2.722    0.0065   (0.0192 | 0.118)         \n",
            "Beta _FROM_EXCHANGE_TRANSACTIONS         -0.0633    0.0251     -2.5225  0.0117   (-0.1125 | -0.0141)      \n",
            "Beta BTC_close                           0.0451     0.0205     2.2041   0.0275   (0.005 | 0.0852)         \n",
            "Beta volume                              0.1505     0.0174     8.6326   0.0      (0.1163 | 0.1846)        \n",
            "Beta _BTC_RETURNS                        0.0018     0.0119     0.1518   0.8793   (-0.0215 | 0.0252)       \n",
            "Normal Scale                             0.3189                                                           \n",
            "==========================================================================================================\n"
          ],
          "name": "stdout"
        }
      ]
    },
    {
      "cell_type": "code",
      "metadata": {
        "id": "jyuY2LLEEKec",
        "colab_type": "code",
        "outputId": "ad56a87a-f989-411e-8518-9163180ecf53",
        "colab": {
          "base_uri": "https://localhost:8080/",
          "height": 269
        }
      },
      "source": [
        "# ARIMAX model with the volume.\n",
        "import  copy\n",
        "data_temp = copy.copy(data)\n",
        "data_temp.loc[:,'_RETURNS_2'] = y**2\n",
        "df = data_temp\n",
        "normalized_df=(df-df.mean())/df.std()\n",
        "model = pf.ARIMAX(data=normalized_df, formula='VOL~1+volume',\n",
        "                  ar=1, ma=1,integ=1, family=pf.Normal())\n",
        "x = model.fit(\"MLE\")\n",
        "x.summary()"
      ],
      "execution_count": 24,
      "outputs": [
        {
          "output_type": "stream",
          "text": [
            "Normal ARIMAX(1,1,1)                                                                                      \n",
            "======================================================= ==================================================\n",
            "Dependent Variable: Differenced VOL                     Method: MLE                                       \n",
            "Start Date: 1                                           Log Likelihood: -156.731                          \n",
            "End Date: 546                                           AIC: 323.462                                      \n",
            "Number of observations: 545                             BIC: 344.966                                      \n",
            "==========================================================================================================\n",
            "Latent Variable                          Estimate   Std Error  z        P>|z|    95% C.I.                 \n",
            "======================================== ========== ========== ======== ======== =========================\n",
            "AR(1)                                    -0.3747    0.075      -4.9957  0.0      (-0.5217 | -0.2277)      \n",
            "MA(1)                                    0.4633     0.0721     6.4235   0.0      (0.3219 | 0.6046)        \n",
            "Beta 1                                   0.0013     0.0202     0.0651   0.9481   (-0.0383 | 0.0409)       \n",
            "Beta volume                              0.1551     0.0162     9.558    0.0      (0.1233 | 0.1869)        \n",
            "Normal Scale                             0.3226                                                           \n",
            "==========================================================================================================\n"
          ],
          "name": "stdout"
        }
      ]
    },
    {
      "cell_type": "markdown",
      "metadata": {
        "id": "xXKgba9CSGbj",
        "colab_type": "text"
      },
      "source": [
        "### *) Random Forest "
      ]
    },
    {
      "cell_type": "code",
      "metadata": {
        "id": "-qIqslDTSQEA",
        "colab_type": "code",
        "outputId": "c37bf427-6e0e-4ad7-cbe6-3ff011ced43b",
        "colab": {
          "base_uri": "https://localhost:8080/",
          "height": 336
        }
      },
      "source": [
        "from sklearn.ensemble import RandomForestRegressor\n",
        "from sklearn.model_selection import GridSearchCV\n",
        "\n",
        "rfr = RandomForestRegressor()\n",
        "\n",
        "cv = GridSearchCV(rfr, {'n_estimators': [5, 10, 20, 40, 80],\n",
        "                        'max_depth':[1,2,3,4, 10]})\n",
        "\n",
        "cv.fit(X,y)\n",
        "\n"
      ],
      "execution_count": 25,
      "outputs": [
        {
          "output_type": "execute_result",
          "data": {
            "text/plain": [
              "GridSearchCV(cv=None, error_score=nan,\n",
              "             estimator=RandomForestRegressor(bootstrap=True, ccp_alpha=0.0,\n",
              "                                             criterion='mse', max_depth=None,\n",
              "                                             max_features='auto',\n",
              "                                             max_leaf_nodes=None,\n",
              "                                             max_samples=None,\n",
              "                                             min_impurity_decrease=0.0,\n",
              "                                             min_impurity_split=None,\n",
              "                                             min_samples_leaf=1,\n",
              "                                             min_samples_split=2,\n",
              "                                             min_weight_fraction_leaf=0.0,\n",
              "                                             n_estimators=100, n_jobs=None,\n",
              "                                             oob_score=False, random_state=None,\n",
              "                                             verbose=0, warm_start=False),\n",
              "             iid='deprecated', n_jobs=None,\n",
              "             param_grid={'max_depth': [1, 2, 3, 4, 10],\n",
              "                         'n_estimators': [5, 10, 20, 40, 80]},\n",
              "             pre_dispatch='2*n_jobs', refit=True, return_train_score=False,\n",
              "             scoring=None, verbose=0)"
            ]
          },
          "metadata": {
            "tags": []
          },
          "execution_count": 25
        }
      ]
    },
    {
      "cell_type": "code",
      "metadata": {
        "id": "mAQ88kD5Uoix",
        "colab_type": "code",
        "outputId": "12aa48e3-460b-4d8a-d656-91c33749a113",
        "colab": {
          "base_uri": "https://localhost:8080/",
          "height": 34
        }
      },
      "source": [
        "print('The best Cross validated R2 score is {:.2f}'.format(cv.best_score_))\n",
        "\n",
        "# The random forest overfit the data."
      ],
      "execution_count": 26,
      "outputs": [
        {
          "output_type": "stream",
          "text": [
            "The best Cross validated R2 score is 0.17\n"
          ],
          "name": "stdout"
        }
      ]
    },
    {
      "cell_type": "code",
      "metadata": {
        "id": "6IdKMSoFL0o9",
        "colab_type": "code",
        "colab": {
          "base_uri": "https://localhost:8080/",
          "height": 50
        },
        "outputId": "dd1f7a24-6557-45ce-e383-ac8f3b1c1377"
      },
      "source": [
        "from sklearn.linear_model import Ridge\n",
        "from sklearn.model_selection import GridSearchCV\n",
        "\n",
        "rid = Ridge()\n",
        "rid.fit(X, y)\n",
        "print('R^2 train score '+str(rid.score(X,y)))\n",
        "\n",
        "\n",
        "cv = GridSearchCV(rid, {'alpha': np.logspace(-5,5,10)}, cv=3, )\n",
        "\n",
        "cv.fit(X,y)\n",
        "print('The best Cross validated R2 score is {:.2f}'.format(cv.best_score_))\n",
        "\n"
      ],
      "execution_count": 27,
      "outputs": [
        {
          "output_type": "stream",
          "text": [
            "R^2 train score 0.4744540651249146\n",
            "The best Cross validated R2 score is -2.39\n"
          ],
          "name": "stdout"
        }
      ]
    }
  ]
}