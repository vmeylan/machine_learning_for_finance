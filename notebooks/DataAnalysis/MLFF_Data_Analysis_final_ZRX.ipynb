{
  "nbformat": 4,
  "nbformat_minor": 0,
  "metadata": {
    "colab": {
      "name": "MLFF-Data Analysis - final - ZRX.ipynb",
      "provenance": [],
      "collapsed_sections": []
    },
    "kernelspec": {
      "name": "python3",
      "display_name": "Python 3"
    }
  },
  "cells": [
    {
      "cell_type": "code",
      "metadata": {
        "id": "t-fCq3-0rtG_",
        "colab_type": "code",
        "outputId": "a6c35f66-5e8f-4356-a859-2f004bdf78bb",
        "colab": {
          "base_uri": "https://localhost:8080/",
          "height": 622
        }
      },
      "source": [
        "import pandas as pd\n",
        "import matplotlib.pyplot as plt\n",
        "!pip install arch\n",
        "! pip install pyflux\n",
        "import pyflux as pf"
      ],
      "execution_count": 0,
      "outputs": [
        {
          "output_type": "stream",
          "text": [
            "Collecting arch\n",
            "\u001b[?25l  Downloading https://files.pythonhosted.org/packages/f5/9e/7628ae53df0494a08d256dcdccc2519aa058c7c7ccb0fc6ca4a380b0bc86/arch-4.11-cp36-cp36m-manylinux1_x86_64.whl (711kB)\n",
            "\r\u001b[K     |▌                               | 10kB 16.7MB/s eta 0:00:01\r\u001b[K     |█                               | 20kB 1.8MB/s eta 0:00:01\r\u001b[K     |█▍                              | 30kB 2.6MB/s eta 0:00:01\r\u001b[K     |█▉                              | 40kB 1.7MB/s eta 0:00:01\r\u001b[K     |██▎                             | 51kB 2.1MB/s eta 0:00:01\r\u001b[K     |██▊                             | 61kB 2.5MB/s eta 0:00:01\r\u001b[K     |███▏                            | 71kB 3.0MB/s eta 0:00:01\r\u001b[K     |███▊                            | 81kB 3.3MB/s eta 0:00:01\r\u001b[K     |████▏                           | 92kB 3.7MB/s eta 0:00:01\r\u001b[K     |████▋                           | 102kB 2.8MB/s eta 0:00:01\r\u001b[K     |█████                           | 112kB 2.8MB/s eta 0:00:01\r\u001b[K     |█████▌                          | 122kB 2.8MB/s eta 0:00:01\r\u001b[K     |██████                          | 133kB 2.8MB/s eta 0:00:01\r\u001b[K     |██████▍                         | 143kB 2.8MB/s eta 0:00:01\r\u001b[K     |███████                         | 153kB 2.8MB/s eta 0:00:01\r\u001b[K     |███████▍                        | 163kB 2.8MB/s eta 0:00:01\r\u001b[K     |███████▉                        | 174kB 2.8MB/s eta 0:00:01\r\u001b[K     |████████▎                       | 184kB 2.8MB/s eta 0:00:01\r\u001b[K     |████████▊                       | 194kB 2.8MB/s eta 0:00:01\r\u001b[K     |█████████▏                      | 204kB 2.8MB/s eta 0:00:01\r\u001b[K     |█████████▋                      | 215kB 2.8MB/s eta 0:00:01\r\u001b[K     |██████████▏                     | 225kB 2.8MB/s eta 0:00:01\r\u001b[K     |██████████▋                     | 235kB 2.8MB/s eta 0:00:01\r\u001b[K     |███████████                     | 245kB 2.8MB/s eta 0:00:01\r\u001b[K     |███████████▌                    | 256kB 2.8MB/s eta 0:00:01\r\u001b[K     |████████████                    | 266kB 2.8MB/s eta 0:00:01\r\u001b[K     |████████████▍                   | 276kB 2.8MB/s eta 0:00:01\r\u001b[K     |████████████▉                   | 286kB 2.8MB/s eta 0:00:01\r\u001b[K     |█████████████▍                  | 296kB 2.8MB/s eta 0:00:01\r\u001b[K     |█████████████▉                  | 307kB 2.8MB/s eta 0:00:01\r\u001b[K     |██████████████▎                 | 317kB 2.8MB/s eta 0:00:01\r\u001b[K     |██████████████▊                 | 327kB 2.8MB/s eta 0:00:01\r\u001b[K     |███████████████▏                | 337kB 2.8MB/s eta 0:00:01\r\u001b[K     |███████████████▋                | 348kB 2.8MB/s eta 0:00:01\r\u001b[K     |████████████████                | 358kB 2.8MB/s eta 0:00:01\r\u001b[K     |████████████████▋               | 368kB 2.8MB/s eta 0:00:01\r\u001b[K     |█████████████████               | 378kB 2.8MB/s eta 0:00:01\r\u001b[K     |█████████████████▌              | 389kB 2.8MB/s eta 0:00:01\r\u001b[K     |██████████████████              | 399kB 2.8MB/s eta 0:00:01\r\u001b[K     |██████████████████▍             | 409kB 2.8MB/s eta 0:00:01\r\u001b[K     |██████████████████▉             | 419kB 2.8MB/s eta 0:00:01\r\u001b[K     |███████████████████▎            | 430kB 2.8MB/s eta 0:00:01\r\u001b[K     |███████████████████▉            | 440kB 2.8MB/s eta 0:00:01\r\u001b[K     |████████████████████▎           | 450kB 2.8MB/s eta 0:00:01\r\u001b[K     |████████████████████▊           | 460kB 2.8MB/s eta 0:00:01\r\u001b[K     |█████████████████████▏          | 471kB 2.8MB/s eta 0:00:01\r\u001b[K     |█████████████████████▋          | 481kB 2.8MB/s eta 0:00:01\r\u001b[K     |██████████████████████          | 491kB 2.8MB/s eta 0:00:01\r\u001b[K     |██████████████████████▌         | 501kB 2.8MB/s eta 0:00:01\r\u001b[K     |███████████████████████         | 512kB 2.8MB/s eta 0:00:01\r\u001b[K     |███████████████████████▌        | 522kB 2.8MB/s eta 0:00:01\r\u001b[K     |████████████████████████        | 532kB 2.8MB/s eta 0:00:01\r\u001b[K     |████████████████████████▍       | 542kB 2.8MB/s eta 0:00:01\r\u001b[K     |████████████████████████▉       | 552kB 2.8MB/s eta 0:00:01\r\u001b[K     |█████████████████████████▎      | 563kB 2.8MB/s eta 0:00:01\r\u001b[K     |█████████████████████████▊      | 573kB 2.8MB/s eta 0:00:01\r\u001b[K     |██████████████████████████▎     | 583kB 2.8MB/s eta 0:00:01\r\u001b[K     |██████████████████████████▊     | 593kB 2.8MB/s eta 0:00:01\r\u001b[K     |███████████████████████████▏    | 604kB 2.8MB/s eta 0:00:01\r\u001b[K     |███████████████████████████▋    | 614kB 2.8MB/s eta 0:00:01\r\u001b[K     |████████████████████████████    | 624kB 2.8MB/s eta 0:00:01\r\u001b[K     |████████████████████████████▌   | 634kB 2.8MB/s eta 0:00:01\r\u001b[K     |█████████████████████████████   | 645kB 2.8MB/s eta 0:00:01\r\u001b[K     |█████████████████████████████▌  | 655kB 2.8MB/s eta 0:00:01\r\u001b[K     |██████████████████████████████  | 665kB 2.8MB/s eta 0:00:01\r\u001b[K     |██████████████████████████████▍ | 675kB 2.8MB/s eta 0:00:01\r\u001b[K     |██████████████████████████████▉ | 686kB 2.8MB/s eta 0:00:01\r\u001b[K     |███████████████████████████████▎| 696kB 2.8MB/s eta 0:00:01\r\u001b[K     |███████████████████████████████▊| 706kB 2.8MB/s eta 0:00:01\r\u001b[K     |████████████████████████████████| 716kB 2.8MB/s \n",
            "\u001b[?25hRequirement already satisfied: pandas>=0.22 in /usr/local/lib/python3.6/dist-packages (from arch) (0.25.3)\n",
            "Requirement already satisfied: numpy>=1.14 in /usr/local/lib/python3.6/dist-packages (from arch) (1.17.4)\n",
            "Collecting property-cached>=1.6.2\n",
            "  Downloading https://files.pythonhosted.org/packages/c0/11/6e91ff5fe0476492f023cebad434a1a34fc513cfa98ddb1f3e5c856d2d99/property_cached-1.6.3-py2.py3-none-any.whl\n",
            "Requirement already satisfied: scipy>=1.0 in /usr/local/lib/python3.6/dist-packages (from arch) (1.3.3)\n",
            "Requirement already satisfied: statsmodels>=0.9 in /usr/local/lib/python3.6/dist-packages (from arch) (0.10.2)\n",
            "Requirement already satisfied: cython>=0.29 in /usr/local/lib/python3.6/dist-packages (from arch) (0.29.14)\n",
            "Requirement already satisfied: pytz>=2017.2 in /usr/local/lib/python3.6/dist-packages (from pandas>=0.22->arch) (2018.9)\n",
            "Requirement already satisfied: python-dateutil>=2.6.1 in /usr/local/lib/python3.6/dist-packages (from pandas>=0.22->arch) (2.6.1)\n",
            "Requirement already satisfied: patsy>=0.4.0 in /usr/local/lib/python3.6/dist-packages (from statsmodels>=0.9->arch) (0.5.1)\n",
            "Requirement already satisfied: six>=1.5 in /usr/local/lib/python3.6/dist-packages (from python-dateutil>=2.6.1->pandas>=0.22->arch) (1.12.0)\n",
            "Installing collected packages: property-cached, arch\n",
            "Successfully installed arch-4.11 property-cached-1.6.3\n",
            "Collecting pyflux\n",
            "\u001b[?25l  Downloading https://files.pythonhosted.org/packages/37/e2/ac8ea14d34556e83a9fe9e23ba7b02ca14951849b9637c238ca83d04ac3c/pyflux-0.4.15.tar.gz (1.3MB)\n",
            "\u001b[K     |████████████████████████████████| 1.3MB 2.4MB/s \n",
            "\u001b[?25hRequirement already satisfied: numpy in /usr/local/lib/python3.6/dist-packages (from pyflux) (1.17.4)\n",
            "Requirement already satisfied: pandas in /usr/local/lib/python3.6/dist-packages (from pyflux) (0.25.3)\n",
            "Requirement already satisfied: scipy in /usr/local/lib/python3.6/dist-packages (from pyflux) (1.3.3)\n",
            "Collecting numdifftools\n",
            "\u001b[?25l  Downloading https://files.pythonhosted.org/packages/ab/c0/b0d967160ecc8db52ae34e063937d85e8d386f140ad4826aae2086245a5e/numdifftools-0.9.39-py2.py3-none-any.whl (953kB)\n",
            "\u001b[K     |████████████████████████████████| 962kB 8.9MB/s \n",
            "\u001b[?25hRequirement already satisfied: patsy in /usr/local/lib/python3.6/dist-packages (from pyflux) (0.5.1)\n",
            "Requirement already satisfied: pytz>=2017.2 in /usr/local/lib/python3.6/dist-packages (from pandas->pyflux) (2018.9)\n",
            "Requirement already satisfied: python-dateutil>=2.6.1 in /usr/local/lib/python3.6/dist-packages (from pandas->pyflux) (2.6.1)\n",
            "Requirement already satisfied: six in /usr/local/lib/python3.6/dist-packages (from patsy->pyflux) (1.12.0)\n",
            "Building wheels for collected packages: pyflux\n",
            "  Building wheel for pyflux (setup.py) ... \u001b[?25l\u001b[?25hdone\n",
            "  Created wheel for pyflux: filename=pyflux-0.4.15-cp36-cp36m-linux_x86_64.whl size=4656525 sha256=2305d109b46f6e45b4464f49f9f05726184aa5bb199f5dfc87bc322a8542e59f\n",
            "  Stored in directory: /root/.cache/pip/wheels/36/24/09/d18fa4f926cc90598d23ebd09fb4b0fd7b3dd1d2f506b952de\n",
            "Successfully built pyflux\n",
            "Installing collected packages: numdifftools, pyflux\n",
            "Successfully installed numdifftools-0.9.39 pyflux-0.4.15\n"
          ],
          "name": "stdout"
        }
      ]
    },
    {
      "cell_type": "code",
      "metadata": {
        "id": "Did64uvdrwf6",
        "colab_type": "code",
        "outputId": "4be9b586-19a2-4d00-ed71-d58e8ffb8b17",
        "colab": {
          "base_uri": "https://localhost:8080/",
          "height": 151
        }
      },
      "source": [
        "!git clone https://github.com/vmeylan/machine_learning_for_finance.git"
      ],
      "execution_count": 0,
      "outputs": [
        {
          "output_type": "stream",
          "text": [
            "Cloning into 'machine_learning_for_finance'...\n",
            "remote: Enumerating objects: 58, done.\u001b[K\n",
            "remote: Counting objects:   1% (1/58)\u001b[K\rremote: Counting objects:   3% (2/58)\u001b[K\rremote: Counting objects:   5% (3/58)\u001b[K\rremote: Counting objects:   6% (4/58)\u001b[K\rremote: Counting objects:   8% (5/58)\u001b[K\rremote: Counting objects:  10% (6/58)\u001b[K\rremote: Counting objects:  12% (7/58)\u001b[K\rremote: Counting objects:  13% (8/58)\u001b[K\rremote: Counting objects:  15% (9/58)\u001b[K\rremote: Counting objects:  17% (10/58)\u001b[K\rremote: Counting objects:  18% (11/58)\u001b[K\rremote: Counting objects:  20% (12/58)\u001b[K\rremote: Counting objects:  22% (13/58)\u001b[K\rremote: Counting objects:  24% (14/58)\u001b[K\rremote: Counting objects:  25% (15/58)\u001b[K\rremote: Counting objects:  27% (16/58)\u001b[K\rremote: Counting objects:  29% (17/58)\u001b[K\rremote: Counting objects:  31% (18/58)\u001b[K\rremote: Counting objects:  32% (19/58)\u001b[K\rremote: Counting objects:  34% (20/58)\u001b[K\rremote: Counting objects:  36% (21/58)\u001b[K\rremote: Counting objects:  37% (22/58)\u001b[K\rremote: Counting objects:  39% (23/58)\u001b[K\rremote: Counting objects:  41% (24/58)\u001b[K\rremote: Counting objects:  43% (25/58)\u001b[K\rremote: Counting objects:  44% (26/58)\u001b[K\rremote: Counting objects:  46% (27/58)\u001b[K\rremote: Counting objects:  48% (28/58)\u001b[K\rremote: Counting objects:  50% (29/58)\u001b[K\rremote: Counting objects:  51% (30/58)\u001b[K\rremote: Counting objects:  53% (31/58)\u001b[K\rremote: Counting objects:  55% (32/58)\u001b[K\rremote: Counting objects:  56% (33/58)\u001b[K\rremote: Counting objects:  58% (34/58)\u001b[K\rremote: Counting objects:  60% (35/58)\u001b[K\rremote: Counting objects:  62% (36/58)\u001b[K\rremote: Counting objects:  63% (37/58)\u001b[K\rremote: Counting objects:  65% (38/58)\u001b[K\rremote: Counting objects:  67% (39/58)\u001b[K\rremote: Counting objects:  68% (40/58)\u001b[K\rremote: Counting objects:  70% (41/58)\u001b[K\rremote: Counting objects:  72% (42/58)\u001b[K\rremote: Counting objects:  74% (43/58)\u001b[K\rremote: Counting objects:  75% (44/58)\u001b[K\rremote: Counting objects:  77% (45/58)\u001b[K\rremote: Counting objects:  79% (46/58)\u001b[K\rremote: Counting objects:  81% (47/58)\u001b[K\rremote: Counting objects:  82% (48/58)\u001b[K\rremote: Counting objects:  84% (49/58)\u001b[K\rremote: Counting objects:  86% (50/58)\u001b[K\rremote: Counting objects:  87% (51/58)\u001b[K\rremote: Counting objects:  89% (52/58)\u001b[K\rremote: Counting objects:  91% (53/58)\u001b[K\rremote: Counting objects:  93% (54/58)\u001b[K\rremote: Counting objects:  94% (55/58)\u001b[K\rremote: Counting objects:  96% (56/58)\u001b[K\rremote: Counting objects:  98% (57/58)\u001b[K\rremote: Counting objects: 100% (58/58)\u001b[K\rremote: Counting objects: 100% (58/58), done.\u001b[K\n",
            "remote: Compressing objects: 100% (45/45), done.\u001b[K\n",
            "remote: Total 153 (delta 24), reused 29 (delta 11), pack-reused 95\u001b[K\n",
            "Receiving objects: 100% (153/153), 87.20 MiB | 21.57 MiB/s, done.\n",
            "Resolving deltas: 100% (50/50), done.\n",
            "Checking out files: 100% (26/26), done.\n"
          ],
          "name": "stdout"
        }
      ]
    },
    {
      "cell_type": "markdown",
      "metadata": {
        "id": "vp1SVRz1rjrI",
        "colab_type": "text"
      },
      "source": [
        "### Data Analysis"
      ]
    },
    {
      "cell_type": "markdown",
      "metadata": {
        "id": "UHAhLXQkrqBh",
        "colab_type": "text"
      },
      "source": [
        "#### ZRX"
      ]
    },
    {
      "cell_type": "code",
      "metadata": {
        "id": "WF1ZIskzro6g",
        "colab_type": "code",
        "colab": {}
      },
      "source": [
        "data = pd.read_csv('machine_learning_for_finance/data/preprocessed_data/zrx.csv').drop(['Unnamed: 0', '_INTERCEPT', '_REALIZED_VOL', '_VOL_PROXY', '_NEGATIVE_RETURNS', '_BTC_REALIZED_VOL', '_BTC_VOL_PROXY','BTC_low', 'BTC_high', 'high', 'low', '_BTC_NEGATIVE_RETURNS', 'time'], axis=1)"
      ],
      "execution_count": 0,
      "outputs": []
    },
    {
      "cell_type": "code",
      "metadata": {
        "id": "2nvDO7iurdJh",
        "colab_type": "code",
        "outputId": "30096abd-8d5e-4a8f-9686-dfa90f916333",
        "colab": {
          "base_uri": "https://localhost:8080/",
          "height": 195
        }
      },
      "source": [
        "data.head()"
      ],
      "execution_count": 0,
      "outputs": [
        {
          "output_type": "execute_result",
          "data": {
            "text/html": [
              "<div>\n",
              "<style scoped>\n",
              "    .dataframe tbody tr th:only-of-type {\n",
              "        vertical-align: middle;\n",
              "    }\n",
              "\n",
              "    .dataframe tbody tr th {\n",
              "        vertical-align: top;\n",
              "    }\n",
              "\n",
              "    .dataframe thead th {\n",
              "        text-align: right;\n",
              "    }\n",
              "</style>\n",
              "<table border=\"1\" class=\"dataframe\">\n",
              "  <thead>\n",
              "    <tr style=\"text-align: right;\">\n",
              "      <th></th>\n",
              "      <th>BTC_close</th>\n",
              "      <th>BTC_volume</th>\n",
              "      <th>_BTC_RETURNS</th>\n",
              "      <th>_TO_EXCHANGE_TRANSACTIONS</th>\n",
              "      <th>_FROM_EXCHANGE_TRANSACTIONS</th>\n",
              "      <th>_ONCHAIN_TRANSACTIONS</th>\n",
              "      <th>_ONCHAIN_VOLUME</th>\n",
              "      <th>close</th>\n",
              "      <th>volume</th>\n",
              "      <th>_RETURNS</th>\n",
              "    </tr>\n",
              "  </thead>\n",
              "  <tbody>\n",
              "    <tr>\n",
              "      <th>0</th>\n",
              "      <td>4330.00</td>\n",
              "      <td>19839.87</td>\n",
              "      <td>-0.008699</td>\n",
              "      <td>620</td>\n",
              "      <td>407</td>\n",
              "      <td>1027</td>\n",
              "      <td>1.004977e+25</td>\n",
              "      <td>0.000081</td>\n",
              "      <td>1062.62</td>\n",
              "      <td>-0.034045</td>\n",
              "    </tr>\n",
              "    <tr>\n",
              "      <th>1</th>\n",
              "      <td>4309.83</td>\n",
              "      <td>1052374.12</td>\n",
              "      <td>-0.004669</td>\n",
              "      <td>404</td>\n",
              "      <td>501</td>\n",
              "      <td>905</td>\n",
              "      <td>1.128882e+25</td>\n",
              "      <td>0.000082</td>\n",
              "      <td>482.42</td>\n",
              "      <td>0.014438</td>\n",
              "    </tr>\n",
              "    <tr>\n",
              "      <th>2</th>\n",
              "      <td>4377.86</td>\n",
              "      <td>1816507.32</td>\n",
              "      <td>0.015662</td>\n",
              "      <td>268</td>\n",
              "      <td>302</td>\n",
              "      <td>570</td>\n",
              "      <td>4.430195e+24</td>\n",
              "      <td>0.000079</td>\n",
              "      <td>757.05</td>\n",
              "      <td>-0.039269</td>\n",
              "    </tr>\n",
              "    <tr>\n",
              "      <th>3</th>\n",
              "      <td>4562.12</td>\n",
              "      <td>2603649.16</td>\n",
              "      <td>0.041227</td>\n",
              "      <td>647</td>\n",
              "      <td>424</td>\n",
              "      <td>1071</td>\n",
              "      <td>9.318923e+24</td>\n",
              "      <td>0.000080</td>\n",
              "      <td>763.06</td>\n",
              "      <td>0.007050</td>\n",
              "    </tr>\n",
              "    <tr>\n",
              "      <th>4</th>\n",
              "      <td>4566.93</td>\n",
              "      <td>2323879.98</td>\n",
              "      <td>0.001054</td>\n",
              "      <td>494</td>\n",
              "      <td>401</td>\n",
              "      <td>895</td>\n",
              "      <td>7.731110e+24</td>\n",
              "      <td>0.000074</td>\n",
              "      <td>617.25</td>\n",
              "      <td>-0.079614</td>\n",
              "    </tr>\n",
              "  </tbody>\n",
              "</table>\n",
              "</div>"
            ],
            "text/plain": [
              "   BTC_close  BTC_volume  _BTC_RETURNS  ...     close   volume  _RETURNS\n",
              "0    4330.00    19839.87     -0.008699  ...  0.000081  1062.62 -0.034045\n",
              "1    4309.83  1052374.12     -0.004669  ...  0.000082   482.42  0.014438\n",
              "2    4377.86  1816507.32      0.015662  ...  0.000079   757.05 -0.039269\n",
              "3    4562.12  2603649.16      0.041227  ...  0.000080   763.06  0.007050\n",
              "4    4566.93  2323879.98      0.001054  ...  0.000074   617.25 -0.079614\n",
              "\n",
              "[5 rows x 10 columns]"
            ]
          },
          "metadata": {
            "tags": []
          },
          "execution_count": 4
        }
      ]
    },
    {
      "cell_type": "code",
      "metadata": {
        "id": "DNcrzQFBupDx",
        "colab_type": "code",
        "outputId": "5c7736f9-1ff4-4817-ab49-5c1b87c0a02b",
        "colab": {
          "base_uri": "https://localhost:8080/",
          "height": 84
        }
      },
      "source": [
        "data.columns"
      ],
      "execution_count": 0,
      "outputs": [
        {
          "output_type": "execute_result",
          "data": {
            "text/plain": [
              "Index(['BTC_close', 'BTC_volume', '_BTC_RETURNS', '_TO_EXCHANGE_TRANSACTIONS',\n",
              "       '_FROM_EXCHANGE_TRANSACTIONS', '_ONCHAIN_TRANSACTIONS',\n",
              "       '_ONCHAIN_VOLUME', 'close', 'volume', '_RETURNS'],\n",
              "      dtype='object')"
            ]
          },
          "metadata": {
            "tags": []
          },
          "execution_count": 5
        }
      ]
    },
    {
      "cell_type": "code",
      "metadata": {
        "id": "YyuR9JGt38kD",
        "colab_type": "code",
        "colab": {}
      },
      "source": [
        "data.loc[:,'VOL'] = (data._RETURNS**2).ewm(halflife=10).mean()\n",
        "data.loc[:,'_FROM_EXCHANGE_EWMA'] = (data._FROM_EXCHANGE_TRANSACTIONS**2).ewm(halflife=10).mean()"
      ],
      "execution_count": 0,
      "outputs": []
    },
    {
      "cell_type": "code",
      "metadata": {
        "id": "uFRzEuD23HkZ",
        "colab_type": "code",
        "outputId": "bf62e5e8-49f7-4055-98d3-b6bcc583ff66",
        "colab": {
          "base_uri": "https://localhost:8080/",
          "height": 385
        }
      },
      "source": [
        "plt.plot((data._RETURNS**2).ewm(halflife=10).mean())\n",
        "plt.title('EW volatility vs. number of trading days elapsed')\n",
        "plt.xticks(ticks = [0,200,400,600,800])"
      ],
      "execution_count": 0,
      "outputs": [
        {
          "output_type": "execute_result",
          "data": {
            "text/plain": [
              "([<matplotlib.axis.XTick at 0x7fa4e61dcac8>,\n",
              "  <matplotlib.axis.XTick at 0x7fa4e6202588>,\n",
              "  <matplotlib.axis.XTick at 0x7fa4e616e828>,\n",
              "  <matplotlib.axis.XTick at 0x7fa4e61ff860>,\n",
              "  <matplotlib.axis.XTick at 0x7fa4e6589be0>],\n",
              " <a list of 5 Text xticklabel objects>)"
            ]
          },
          "metadata": {
            "tags": []
          },
          "execution_count": 255
        },
        {
          "output_type": "display_data",
          "data": {
            "image/png": "[encoded data removed]",
            "text/plain": [
              "<Figure size 432x288 with 1 Axes>"
            ]
          },
          "metadata": {
            "tags": []
          }
        }
      ]
    },
    {
      "cell_type": "code",
      "metadata": {
        "id": "IgYSI2lQsOVw",
        "colab_type": "code",
        "outputId": "7b98ecf5-954a-46a2-a123-f5fa358ff085",
        "colab": {
          "base_uri": "https://localhost:8080/",
          "height": 726
        }
      },
      "source": [
        "import numpy as np\n",
        "import pandas as pd\n",
        "import seaborn as sns\n",
        "import matplotlib.pyplot as plt\n",
        "\n",
        "sns.set(style=\"white\")\n",
        "\n",
        "# Compute the correlation matrix\n",
        "corr = data.corr()\n",
        "\n",
        "# Generate a mask for the upper triangle\n",
        "mask = np.zeros_like(corr, dtype=np.bool)\n",
        "mask[np.triu_indices_from(mask)] = True\n",
        "\n",
        "# Set up the matplotlib figure\n",
        "f, ax = plt.subplots(figsize=(11, 9))\n",
        "\n",
        "# Generate a custom diverging colormap\n",
        "cmap = sns.diverging_palette(220, 10, as_cmap=True)\n",
        "\n",
        "# Draw the heatmap with the mask and correct aspect ratio\n",
        "sns.heatmap(corr, mask=mask, cmap=cmap, vmax=1, center=0, vmin=-1,\n",
        "            square=True, linewidths=.5, cbar_kws={\"shrink\": .5})\n",
        "pass"
      ],
      "execution_count": 0,
      "outputs": [
        {
          "output_type": "display_data",
          "data": {
            "image/png": "[encoded data removed]",
            "text/plain": [
              "<Figure size 792x648 with 2 Axes>"
            ]
          },
          "metadata": {
            "tags": []
          }
        }
      ]
    },
    {
      "cell_type": "code",
      "metadata": {
        "id": "CtrybRaeYMxT",
        "colab_type": "code",
        "colab": {}
      },
      "source": [
        "data = data.loc[~data.isna().any(axis=1)] # drop NaN rows"
      ],
      "execution_count": 0,
      "outputs": []
    },
    {
      "cell_type": "code",
      "metadata": {
        "id": "B6IiG_Cr6Kpo",
        "colab_type": "code",
        "colab": {}
      },
      "source": [
        "X = data.drop('VOL', axis=1)\n",
        "y = data.VOL"
      ],
      "execution_count": 0,
      "outputs": []
    },
    {
      "cell_type": "code",
      "metadata": {
        "colab_type": "code",
        "id": "_bKGn6cp6Ful",
        "colab": {}
      },
      "source": [
        "import sklearn\n",
        "from sklearn.model_selection import train_test_split\n",
        "\n",
        "X_train, X_test, y_train, y_test = train_test_split(X,y,test_size=0.33, random_state=2, shuffle=True)"
      ],
      "execution_count": 0,
      "outputs": []
    },
    {
      "cell_type": "markdown",
      "metadata": {
        "colab_type": "text",
        "id": "bxPHqsqk6FCn"
      },
      "source": [
        "### *) Statistical Significance"
      ]
    },
    {
      "cell_type": "code",
      "metadata": {
        "colab_type": "code",
        "id": "CiW3a1Bb5_39",
        "outputId": "ec398868-f905-4458-931d-9dda20b63572",
        "colab": {
          "base_uri": "https://localhost:8080/",
          "height": 336
        }
      },
      "source": [
        "# Computation of the F scores for each feature to see which features are statistically significant\n",
        "\n",
        "from sklearn.feature_selection import f_regression\n",
        "\n",
        "p_val = f_regression(X, y)[1]\n",
        "p_val_table = pd.DataFrame({'p_val':p_val,\n",
        "              'column_name': data.drop(['_RETURNS'], axis=1).columns}).sort_values('p_val')\n",
        "display('Statistical significance to predict returns^2')\n",
        "print(p_val_table.to_latex(index=False))"
      ],
      "execution_count": 0,
      "outputs": [
        {
          "output_type": "display_data",
          "data": {
            "text/plain": [
              "'Statistical significance to predict returns^2'"
            ]
          },
          "metadata": {
            "tags": []
          }
        },
        {
          "output_type": "stream",
          "text": [
            "\\begin{tabular}{rl}\n",
            "\\toprule\n",
            "        p\\_val &                  column\\_name \\\\\n",
            "\\midrule\n",
            " 1.539298e-73 &                    BTC\\_close \\\\\n",
            " 1.530532e-51 &  \\_FROM\\_EXCHANGE\\_TRANSACTIONS \\\\\n",
            " 1.327524e-46 &          \\_FROM\\_EXCHANGE\\_EWMA \\\\\n",
            " 4.778608e-22 &                   BTC\\_volume \\\\\n",
            " 1.199151e-20 &                        close \\\\\n",
            " 2.429822e-09 &        \\_ONCHAIN\\_TRANSACTIONS \\\\\n",
            " 5.853581e-07 &                       volume \\\\\n",
            " 6.199877e-07 &              \\_ONCHAIN\\_VOLUME \\\\\n",
            " 6.077035e-06 &                          VOL \\\\\n",
            " 5.986487e-02 &                 \\_BTC\\_RETURNS \\\\\n",
            " 2.042026e-01 &    \\_TO\\_EXCHANGE\\_TRANSACTIONS \\\\\n",
            "\\bottomrule\n",
            "\\end{tabular}\n",
            "\n"
          ],
          "name": "stdout"
        }
      ]
    },
    {
      "cell_type": "code",
      "metadata": {
        "colab_type": "code",
        "id": "NX1LYMn15-gn",
        "colab": {}
      },
      "source": [
        "import sklearn\n",
        "from sklearn.model_selection import train_test_split\n",
        "\n",
        "X_train, X_test, y_train, y_test = train_test_split(X,y,test_size=0.33, random_state=2, shuffle=True)"
      ],
      "execution_count": 0,
      "outputs": []
    },
    {
      "cell_type": "code",
      "metadata": {
        "id": "QSq6kqnZb7jl",
        "colab_type": "code",
        "outputId": "3ab37b15-6bad-4169-b083-ca7cadc82540",
        "colab": {
          "base_uri": "https://localhost:8080/",
          "height": 34
        }
      },
      "source": [
        "cv.best_params_"
      ],
      "execution_count": 0,
      "outputs": [
        {
          "output_type": "execute_result",
          "data": {
            "text/plain": [
              "{'max_depth': 1, 'n_estimators': 10}"
            ]
          },
          "metadata": {
            "tags": []
          },
          "execution_count": 262
        }
      ]
    },
    {
      "cell_type": "markdown",
      "metadata": {
        "id": "8qTSVnQy7K1F",
        "colab_type": "text"
      },
      "source": [
        "There are too many variables for the model to predict correctly with the amount of data (800 observations). This is called overfitting. We will fit simpler models."
      ]
    },
    {
      "cell_type": "code",
      "metadata": {
        "id": "ehhCKDql7KAd",
        "colab_type": "code",
        "outputId": "a726d6fb-d846-4a7d-8acd-3a4e02e7c10a",
        "colab": {
          "base_uri": "https://localhost:8080/",
          "height": 235
        }
      },
      "source": [
        "from sklearn.linear_model import LinearRegression\n",
        "from sklearn.model_selection import GridSearchCV\n",
        "\n",
        "print('R2 for a Linear Regression with one variable only')\n",
        "print('=================================================')\n",
        "def LR_results(variable):\n",
        "\n",
        "  X = (data.loc[:, variable].values.reshape(-1,1))\n",
        "\n",
        "  reg = LinearRegression()\n",
        "\n",
        "\n",
        "  reg.fit(X,y)\n",
        "  \n",
        "\n",
        "  return reg.score(X,y)\n",
        "\n",
        "\n",
        "for variable in data.columns:\n",
        "  if variable == 'VOL':\n",
        "    continue\n",
        "  print(' {:.2f} - {}'.format(LR_results(variable), variable))"
      ],
      "execution_count": 0,
      "outputs": [
        {
          "output_type": "stream",
          "text": [
            "R2 for a Linear Regression with one variable only\n",
            "=================================================\n",
            " 0.32 - BTC_close\n",
            " 0.10 - BTC_volume\n",
            " 0.00 - _BTC_RETURNS\n",
            " 0.00 - _TO_EXCHANGE_TRANSACTIONS\n",
            " 0.24 - _FROM_EXCHANGE_TRANSACTIONS\n",
            " 0.04 - _ONCHAIN_TRANSACTIONS\n",
            " 0.03 - _ONCHAIN_VOLUME\n",
            " 0.10 - close\n",
            " 0.03 - volume\n",
            " 0.02 - _RETURNS\n",
            " 0.22 - _FROM_EXCHANGE_EWMA\n"
          ],
          "name": "stdout"
        }
      ]
    },
    {
      "cell_type": "code",
      "metadata": {
        "id": "fO8PmARTdXFN",
        "colab_type": "code",
        "outputId": "416778a3-d962-4499-d201-9e8e084a93a4",
        "colab": {
          "base_uri": "https://localhost:8080/",
          "height": 286
        }
      },
      "source": [
        "df = pd.DataFrame([[0.32, 'BTC_close'],\n",
        " [0.10,'BTC_volume'],\n",
        " [0.00, '_BTC_RETURNS'],\n",
        " [0.00, '_TO_EXCHANGE_TRANSACTIONS'],\n",
        " [0.24, '_FROM_EXCHANGE_TRANSACTIONS'],\n",
        " [0.04, '_ONCHAIN_TRANSACTIONS'],\n",
        " [0.03, '_ONCHAIN_VOLUME'],\n",
        " [0.10 ,'close'],\n",
        " [0.03, 'volume']])\n",
        "print(df.to_latex(index=False))"
      ],
      "execution_count": 0,
      "outputs": [
        {
          "output_type": "stream",
          "text": [
            "\\begin{tabular}{rl}\n",
            "\\toprule\n",
            "    0 &                            1 \\\\\n",
            "\\midrule\n",
            " 0.32 &                    BTC\\_close \\\\\n",
            " 0.10 &                   BTC\\_volume \\\\\n",
            " 0.00 &                 \\_BTC\\_RETURNS \\\\\n",
            " 0.00 &    \\_TO\\_EXCHANGE\\_TRANSACTIONS \\\\\n",
            " 0.24 &  \\_FROM\\_EXCHANGE\\_TRANSACTIONS \\\\\n",
            " 0.04 &        \\_ONCHAIN\\_TRANSACTIONS \\\\\n",
            " 0.03 &              \\_ONCHAIN\\_VOLUME \\\\\n",
            " 0.10 &                        close \\\\\n",
            " 0.03 &                       volume \\\\\n",
            "\\bottomrule\n",
            "\\end{tabular}\n",
            "\n"
          ],
          "name": "stdout"
        }
      ]
    },
    {
      "cell_type": "code",
      "metadata": {
        "id": "p6YnluXU8p1R",
        "colab_type": "code",
        "outputId": "ae3a7b53-ff60-41e0-8809-8556cf4a5055",
        "colab": {
          "base_uri": "https://localhost:8080/",
          "height": 551
        }
      },
      "source": [
        "plt.plot(data.BTC_close, data.VOL, 'r+')\n",
        "plt.title('VOL vs. BTC_close')\n",
        "plt.figure()\n",
        "plt.plot(data._FROM_EXCHANGE_TRANSACTIONS, data.VOL, 'r+')\n",
        "plt.title('VOL vs. _FROM_EXCHANGE_TRANSACTIONS')\n",
        "plt.xlim((0,1500))\n",
        "pass"
      ],
      "execution_count": 0,
      "outputs": [
        {
          "output_type": "display_data",
          "data": {
            "image/png": "[encoded data removed]",
            "text/plain": [
              "<Figure size 432x288 with 1 Axes>"
            ]
          },
          "metadata": {
            "tags": []
          }
        },
        {
          "output_type": "display_data",
          "data": {
            "image/png": "[encoded data removed]",
            "text/plain": [
              "<Figure size 432x288 with 1 Axes>"
            ]
          },
          "metadata": {
            "tags": []
          }
        }
      ]
    },
    {
      "cell_type": "markdown",
      "metadata": {
        "id": "JO8jERyUnsiW",
        "colab_type": "text"
      },
      "source": [
        "### *) Comparison with Volatility arima model"
      ]
    },
    {
      "cell_type": "code",
      "metadata": {
        "id": "eYG_V2s97lCJ",
        "colab_type": "code",
        "outputId": "08dcfaf4-df2e-41b2-d547-6edb1f414199",
        "colab": {
          "base_uri": "https://localhost:8080/",
          "height": 422
        }
      },
      "source": [
        "data"
      ],
      "execution_count": 0,
      "outputs": [
        {
          "output_type": "execute_result",
          "data": {
            "text/html": [
              "<div>\n",
              "<style scoped>\n",
              "    .dataframe tbody tr th:only-of-type {\n",
              "        vertical-align: middle;\n",
              "    }\n",
              "\n",
              "    .dataframe tbody tr th {\n",
              "        vertical-align: top;\n",
              "    }\n",
              "\n",
              "    .dataframe thead th {\n",
              "        text-align: right;\n",
              "    }\n",
              "</style>\n",
              "<table border=\"1\" class=\"dataframe\">\n",
              "  <thead>\n",
              "    <tr style=\"text-align: right;\">\n",
              "      <th></th>\n",
              "      <th>BTC_close</th>\n",
              "      <th>BTC_volume</th>\n",
              "      <th>_BTC_RETURNS</th>\n",
              "      <th>_TO_EXCHANGE_TRANSACTIONS</th>\n",
              "      <th>_FROM_EXCHANGE_TRANSACTIONS</th>\n",
              "      <th>_ONCHAIN_TRANSACTIONS</th>\n",
              "      <th>_ONCHAIN_VOLUME</th>\n",
              "      <th>close</th>\n",
              "      <th>volume</th>\n",
              "      <th>_RETURNS</th>\n",
              "      <th>VOL</th>\n",
              "      <th>_FROM_EXCHANGE_EWMA</th>\n",
              "    </tr>\n",
              "  </thead>\n",
              "  <tbody>\n",
              "    <tr>\n",
              "      <th>0</th>\n",
              "      <td>4330.00</td>\n",
              "      <td>1.983987e+04</td>\n",
              "      <td>-0.008699</td>\n",
              "      <td>620</td>\n",
              "      <td>407</td>\n",
              "      <td>1027</td>\n",
              "      <td>1.004977e+25</td>\n",
              "      <td>0.000081</td>\n",
              "      <td>1062.62</td>\n",
              "      <td>-0.034045</td>\n",
              "      <td>0.001159</td>\n",
              "      <td>165649.000000</td>\n",
              "    </tr>\n",
              "    <tr>\n",
              "      <th>1</th>\n",
              "      <td>4309.83</td>\n",
              "      <td>1.052374e+06</td>\n",
              "      <td>-0.004669</td>\n",
              "      <td>404</td>\n",
              "      <td>501</td>\n",
              "      <td>905</td>\n",
              "      <td>1.128882e+25</td>\n",
              "      <td>0.000082</td>\n",
              "      <td>482.42</td>\n",
              "      <td>0.014438</td>\n",
              "      <td>0.000667</td>\n",
              "      <td>209803.445565</td>\n",
              "    </tr>\n",
              "    <tr>\n",
              "      <th>2</th>\n",
              "      <td>4377.86</td>\n",
              "      <td>1.816507e+06</td>\n",
              "      <td>0.015662</td>\n",
              "      <td>268</td>\n",
              "      <td>302</td>\n",
              "      <td>570</td>\n",
              "      <td>4.430195e+24</td>\n",
              "      <td>0.000079</td>\n",
              "      <td>757.05</td>\n",
              "      <td>-0.039269</td>\n",
              "      <td>0.000979</td>\n",
              "      <td>167500.641584</td>\n",
              "    </tr>\n",
              "    <tr>\n",
              "      <th>3</th>\n",
              "      <td>4562.12</td>\n",
              "      <td>2.603649e+06</td>\n",
              "      <td>0.041227</td>\n",
              "      <td>647</td>\n",
              "      <td>424</td>\n",
              "      <td>1071</td>\n",
              "      <td>9.318923e+24</td>\n",
              "      <td>0.000080</td>\n",
              "      <td>763.06</td>\n",
              "      <td>0.007050</td>\n",
              "      <td>0.000722</td>\n",
              "      <td>170895.529677</td>\n",
              "    </tr>\n",
              "    <tr>\n",
              "      <th>4</th>\n",
              "      <td>4566.93</td>\n",
              "      <td>2.323880e+06</td>\n",
              "      <td>0.001054</td>\n",
              "      <td>494</td>\n",
              "      <td>401</td>\n",
              "      <td>895</td>\n",
              "      <td>7.731110e+24</td>\n",
              "      <td>0.000074</td>\n",
              "      <td>617.25</td>\n",
              "      <td>-0.079614</td>\n",
              "      <td>0.002006</td>\n",
              "      <td>168587.519757</td>\n",
              "    </tr>\n",
              "    <tr>\n",
              "      <th>...</th>\n",
              "      <td>...</td>\n",
              "      <td>...</td>\n",
              "      <td>...</td>\n",
              "      <td>...</td>\n",
              "      <td>...</td>\n",
              "      <td>...</td>\n",
              "      <td>...</td>\n",
              "      <td>...</td>\n",
              "      <td>...</td>\n",
              "      <td>...</td>\n",
              "      <td>...</td>\n",
              "      <td>...</td>\n",
              "    </tr>\n",
              "    <tr>\n",
              "      <th>843</th>\n",
              "      <td>6622.83</td>\n",
              "      <td>1.742293e+09</td>\n",
              "      <td>-0.040055</td>\n",
              "      <td>83</td>\n",
              "      <td>196</td>\n",
              "      <td>278</td>\n",
              "      <td>2.020436e+24</td>\n",
              "      <td>0.000027</td>\n",
              "      <td>177.03</td>\n",
              "      <td>-0.037534</td>\n",
              "      <td>0.000785</td>\n",
              "      <td>29121.543951</td>\n",
              "    </tr>\n",
              "    <tr>\n",
              "      <th>844</th>\n",
              "      <td>7275.25</td>\n",
              "      <td>2.525012e+09</td>\n",
              "      <td>0.093955</td>\n",
              "      <td>94</td>\n",
              "      <td>155</td>\n",
              "      <td>245</td>\n",
              "      <td>2.961992e+24</td>\n",
              "      <td>0.000028</td>\n",
              "      <td>246.55</td>\n",
              "      <td>0.025661</td>\n",
              "      <td>0.000777</td>\n",
              "      <td>28780.243649</td>\n",
              "    </tr>\n",
              "    <tr>\n",
              "      <th>845</th>\n",
              "      <td>7149.54</td>\n",
              "      <td>1.966181e+09</td>\n",
              "      <td>-0.017430</td>\n",
              "      <td>98</td>\n",
              "      <td>172</td>\n",
              "      <td>267</td>\n",
              "      <td>2.339215e+24</td>\n",
              "      <td>0.000026</td>\n",
              "      <td>200.71</td>\n",
              "      <td>-0.056201</td>\n",
              "      <td>0.000936</td>\n",
              "      <td>28834.068807</td>\n",
              "    </tr>\n",
              "    <tr>\n",
              "      <th>846</th>\n",
              "      <td>7185.21</td>\n",
              "      <td>1.345727e+09</td>\n",
              "      <td>0.004977</td>\n",
              "      <td>62</td>\n",
              "      <td>99</td>\n",
              "      <td>160</td>\n",
              "      <td>9.062641e+23</td>\n",
              "      <td>0.000027</td>\n",
              "      <td>187.05</td>\n",
              "      <td>0.024581</td>\n",
              "      <td>0.000914</td>\n",
              "      <td>27559.481127</td>\n",
              "    </tr>\n",
              "    <tr>\n",
              "      <th>847</th>\n",
              "      <td>7134.78</td>\n",
              "      <td>9.317416e+08</td>\n",
              "      <td>-0.007043</td>\n",
              "      <td>65</td>\n",
              "      <td>100</td>\n",
              "      <td>161</td>\n",
              "      <td>1.996871e+24</td>\n",
              "      <td>0.000026</td>\n",
              "      <td>103.77</td>\n",
              "      <td>-0.017333</td>\n",
              "      <td>0.000873</td>\n",
              "      <td>26383.575206</td>\n",
              "    </tr>\n",
              "  </tbody>\n",
              "</table>\n",
              "<p>848 rows × 12 columns</p>\n",
              "</div>"
            ],
            "text/plain": [
              "     BTC_close    BTC_volume  ...       VOL  _FROM_EXCHANGE_EWMA\n",
              "0      4330.00  1.983987e+04  ...  0.001159        165649.000000\n",
              "1      4309.83  1.052374e+06  ...  0.000667        209803.445565\n",
              "2      4377.86  1.816507e+06  ...  0.000979        167500.641584\n",
              "3      4562.12  2.603649e+06  ...  0.000722        170895.529677\n",
              "4      4566.93  2.323880e+06  ...  0.002006        168587.519757\n",
              "..         ...           ...  ...       ...                  ...\n",
              "843    6622.83  1.742293e+09  ...  0.000785         29121.543951\n",
              "844    7275.25  2.525012e+09  ...  0.000777         28780.243649\n",
              "845    7149.54  1.966181e+09  ...  0.000936         28834.068807\n",
              "846    7185.21  1.345727e+09  ...  0.000914         27559.481127\n",
              "847    7134.78  9.317416e+08  ...  0.000873         26383.575206\n",
              "\n",
              "[848 rows x 12 columns]"
            ]
          },
          "metadata": {
            "tags": []
          },
          "execution_count": 266
        }
      ]
    },
    {
      "cell_type": "code",
      "metadata": {
        "id": "7GY1LNAHQ9TJ",
        "colab_type": "code",
        "outputId": "cde9ca7b-e793-4e4f-c334-3607f79554bf",
        "colab": {
          "base_uri": "https://localhost:8080/",
          "height": 34
        }
      },
      "source": [
        "data.shape, y.shape"
      ],
      "execution_count": 0,
      "outputs": [
        {
          "output_type": "execute_result",
          "data": {
            "text/plain": [
              "((848, 12), (848,))"
            ]
          },
          "metadata": {
            "tags": []
          },
          "execution_count": 267
        }
      ]
    },
    {
      "cell_type": "code",
      "metadata": {
        "id": "adqKD6gEZIdf",
        "colab_type": "code",
        "colab": {}
      },
      "source": [
        "r = (data.VOL.shift(1) - data.VOL ) \n",
        "r[0]=0"
      ],
      "execution_count": 0,
      "outputs": []
    },
    {
      "cell_type": "code",
      "metadata": {
        "id": "7eB-Jb7GYIJX",
        "colab_type": "code",
        "outputId": "a7c85859-0779-4f8c-8d2b-bc085d9c8fb7",
        "colab": {
          "base_uri": "https://localhost:8080/",
          "height": 1000
        }
      },
      "source": [
        "# As the VOL process is clearly integrated we will take the first difference\n",
        "\n",
        "r = data.VOL\n",
        "from statsmodels.graphics.tsaplots import plot_pacf\n",
        "from statsmodels.graphics.tsaplots import plot_acf\n",
        "\n",
        "plot_pacf(r, lags=list(range(1,48)))\n",
        "plt.title('Partial Autocorrelation of VOL (starting at 1 lag)')\n",
        "plt.show()\n",
        "plot_acf(r, lags=list(range(1,48)))\n",
        "plt.title('Autocorrelation of VOL (starting at 1 lag)')\n",
        "plt.show()\n",
        "\n",
        "r = (data.VOL.shift(1) - data.VOL ) \n",
        "r[0]=0\n",
        "from statsmodels.graphics.tsaplots import plot_pacf\n",
        "from statsmodels.graphics.tsaplots import plot_acf\n",
        "\n",
        "plot_pacf(r, lags=list(range(1,48)))\n",
        "plt.title('Partial Autocorrelation of first difference of VOL (starting at 1 lag)')\n",
        "plt.show()\n",
        "plot_acf(r, lags=list(range(1,48)))\n",
        "plt.title('Autocorrelation of first difference of VOL (starting at 1 lag)')\n",
        "plt.show()\n"
      ],
      "execution_count": 0,
      "outputs": [
        {
          "output_type": "display_data",
          "data": {
            "image/png": "[encoded data removed]",
            "text/plain": [
              "<Figure size 432x288 with 1 Axes>"
            ]
          },
          "metadata": {
            "tags": []
          }
        },
        {
          "output_type": "display_data",
          "data": {
            "image/png": "[encoded data removed]",
            "text/plain": [
              "<Figure size 432x288 with 1 Axes>"
            ]
          },
          "metadata": {
            "tags": []
          }
        },
        {
          "output_type": "display_data",
          "data": {
            "image/png": "[encoded data removed]",
            "text/plain": [
              "<Figure size 432x288 with 1 Axes>"
            ]
          },
          "metadata": {
            "tags": []
          }
        },
        {
          "output_type": "display_data",
          "data": {
            "image/png": "[encoded data removed]",
            "text/plain": [
              "<Figure size 432x288 with 1 Axes>"
            ]
          },
          "metadata": {
            "tags": []
          }
        }
      ]
    },
    {
      "cell_type": "code",
      "metadata": {
        "id": "xv6YS9KAaOBh",
        "colab_type": "code",
        "outputId": "86994ed9-bc03-4935-c37b-867e2a3e6468",
        "colab": {
          "base_uri": "https://localhost:8080/",
          "height": 269
        }
      },
      "source": [
        "# ARIMAX model with the stat significant variables.\n",
        "import  copy\n",
        "data_temp = copy.copy(data)\n",
        "data_temp.loc[:,'_RETURNS_2'] = y**2\n",
        "df = data_temp\n",
        "normalized_df=(df-df.mean())/df.std()\n",
        "model = pf.ARIMAX(data=normalized_df, formula='_RETURNS_2~1+BTC_close+volume',\n",
        "                  ar=1,ma=0, family=pf.Normal())\n",
        "x = model.fit(\"MLE\")\n",
        "x.summary()"
      ],
      "execution_count": 0,
      "outputs": [
        {
          "output_type": "stream",
          "text": [
            "Normal ARIMAX(1,0,0)                                                                                      \n",
            "======================================================= ==================================================\n",
            "Dependent Variable: _RETURNS_2                          Method: MLE                                       \n",
            "Start Date: 1                                           Log Likelihood: -88.1269                          \n",
            "End Date: 847                                           AIC: 186.2537                                     \n",
            "Number of observations: 847                             BIC: 209.9622                                     \n",
            "==========================================================================================================\n",
            "Latent Variable                          Estimate   Std Error  z        P>|z|    95% C.I.                 \n",
            "======================================== ========== ========== ======== ======== =========================\n",
            "AR(1)                                    0.9298     0.011      84.8646  0.0      (0.9083 | 0.9513)        \n",
            "Beta 1                                   -0.0       0.0092     -0.0045  0.9964   (-0.0181 | 0.018)        \n",
            "Beta BTC_close                           0.0534     0.0109     4.8964   0.0      (0.032 | 0.0748)         \n",
            "Beta volume                              0.0367     0.0095     3.8454   0.0001   (0.018 | 0.0554)         \n",
            "Normal Scale                             0.2685                                                           \n",
            "==========================================================================================================\n"
          ],
          "name": "stdout"
        }
      ]
    },
    {
      "cell_type": "code",
      "metadata": {
        "id": "4whmKfpu65dw",
        "colab_type": "code",
        "outputId": "ef59a0d3-cdbf-4fd3-e082-b82e91b324fc",
        "colab": {
          "base_uri": "https://localhost:8080/",
          "height": 336
        }
      },
      "source": [
        "# ARIMAX model with the most correlated variables.\n",
        "import  copy\n",
        "data_temp = copy.copy(data)\n",
        "data_temp.loc[:,'_RETURNS_2'] = y**2\n",
        "df = data_temp\n",
        "normalized_df=(df-df.mean())/df.std()\n",
        "model = pf.ARIMAX(data=normalized_df, formula='VOL~1+_TO_EXCHANGE_TRANSACTIONS+_FROM_EXCHANGE_TRANSACTIONS+BTC_close+volume+_BTC_RETURNS',\n",
        "                  ar=1,ma=1,integ=1, family=pf.Normal())\n",
        "x = model.fit(\"MLE\")\n",
        "x.summary()"
      ],
      "execution_count": 0,
      "outputs": [
        {
          "output_type": "stream",
          "text": [
            "Normal ARIMAX(1,1,1)                                                                                      \n",
            "======================================================= ==================================================\n",
            "Dependent Variable: Differenced VOL                     Method: MLE                                       \n",
            "Start Date: 1                                           Log Likelihood: 253.2723                          \n",
            "End Date: 847                                           AIC: -488.5445                                    \n",
            "Number of observations: 846                             BIC: -445.8799                                    \n",
            "==========================================================================================================\n",
            "Latent Variable                          Estimate   Std Error  z        P>|z|    95% C.I.                 \n",
            "======================================== ========== ========== ======== ======== =========================\n",
            "AR(1)                                    -0.5129    0.1122     -4.5731  0.0      (-0.7328 | -0.2931)      \n",
            "MA(1)                                    0.4386     0.1158     3.7875   0.0002   (0.2116 | 0.6656)        \n",
            "Beta 1                                   -0.0       0.0089     -0.0017  0.9986   (-0.0174 | 0.0174)       \n",
            "Beta _TO_EXCHANGE_TRANSACTIONS           -0.0003    0.0063     -0.0553  0.9559   (-0.0128 | 0.0121)       \n",
            "Beta _FROM_EXCHANGE_TRANSACTIONS         -0.0136    0.0097     -1.4038  0.1604   (-0.0325 | 0.0054)       \n",
            "Beta BTC_close                           0.0249     0.0091     2.7366   0.0062   (0.0071 | 0.0427)        \n",
            "Beta volume                              0.0524     0.0078     6.7072   0.0      (0.0371 | 0.0677)        \n",
            "Beta _BTC_RETURNS                        0.0        0.0055     0.0058   0.9953   (-0.0108 | 0.0109)       \n",
            "Normal Scale                             0.1794                                                           \n",
            "==========================================================================================================\n"
          ],
          "name": "stdout"
        }
      ]
    },
    {
      "cell_type": "code",
      "metadata": {
        "id": "jyuY2LLEEKec",
        "colab_type": "code",
        "outputId": "520db0ea-3076-471f-a5e1-09ffc110bb8d",
        "colab": {
          "base_uri": "https://localhost:8080/",
          "height": 252
        }
      },
      "source": [
        "# ARIMAX model with the volume.\n",
        "import  copy\n",
        "data_temp = copy.copy(data)\n",
        "data_temp.loc[:,'_RETURNS_2'] = y**2\n",
        "df = data_temp\n",
        "normalized_df=(df-df.mean())/df.std()\n",
        "model = pf.ARIMAX(data=normalized_df, formula='_RETURNS_2~1+volume',\n",
        "                  ar=1, ma=0, family=pf.Normal())\n",
        "x = model.fit(\"MLE\")\n",
        "x.summary()"
      ],
      "execution_count": 0,
      "outputs": [
        {
          "output_type": "stream",
          "text": [
            "Normal ARIMAX(1,0,0)                                                                                      \n",
            "======================================================= ==================================================\n",
            "Dependent Variable: _RETURNS_2                          Method: MLE                                       \n",
            "Start Date: 1                                           Log Likelihood: -99.9478                          \n",
            "End Date: 847                                           AIC: 207.8955                                     \n",
            "Number of observations: 847                             BIC: 226.8623                                     \n",
            "==========================================================================================================\n",
            "Latent Variable                          Estimate   Std Error  z        P>|z|    95% C.I.                 \n",
            "======================================== ========== ========== ======== ======== =========================\n",
            "AR(1)                                    0.9579     0.0095     101.2791 0.0      (0.9394 | 0.9765)        \n",
            "Beta 1                                   0.0        0.0094     0.0013   0.999    (-0.0183 | 0.0183)       \n",
            "Beta volume                              0.0267     0.0095     2.8222   0.0048   (0.0082 | 0.0452)        \n",
            "Normal Scale                             0.2723                                                           \n",
            "==========================================================================================================\n"
          ],
          "name": "stdout"
        }
      ]
    },
    {
      "cell_type": "markdown",
      "metadata": {
        "id": "xXKgba9CSGbj",
        "colab_type": "text"
      },
      "source": [
        "### *) Random Forest "
      ]
    },
    {
      "cell_type": "code",
      "metadata": {
        "id": "-qIqslDTSQEA",
        "colab_type": "code",
        "outputId": "d35df7c5-0017-4313-eb63-fcb9b286aa74",
        "colab": {
          "base_uri": "https://localhost:8080/",
          "height": 373
        }
      },
      "source": [
        "from sklearn.ensemble import RandomForestRegressor\n",
        "from sklearn.model_selection import GridSearchCV\n",
        "\n",
        "rfr = RandomForestRegressor()\n",
        "\n",
        "cv = GridSearchCV(rfr, {'n_estimators': [5, 10, 20, 40, 80],\n",
        "                        'max_depth':[1,2,3,4, 10]})\n",
        "\n",
        "cv.fit(X,y**2)\n",
        "\n"
      ],
      "execution_count": 0,
      "outputs": [
        {
          "output_type": "stream",
          "text": [
            "/usr/local/lib/python3.6/dist-packages/sklearn/model_selection/_search.py:814: DeprecationWarning: The default of the `iid` parameter will change from True to False in version 0.22 and will be removed in 0.24. This will change numeric results when test-set sizes are unequal.\n",
            "  DeprecationWarning)\n"
          ],
          "name": "stderr"
        },
        {
          "output_type": "execute_result",
          "data": {
            "text/plain": [
              "GridSearchCV(cv='warn', error_score='raise-deprecating',\n",
              "             estimator=RandomForestRegressor(bootstrap=True, criterion='mse',\n",
              "                                             max_depth=None,\n",
              "                                             max_features='auto',\n",
              "                                             max_leaf_nodes=None,\n",
              "                                             min_impurity_decrease=0.0,\n",
              "                                             min_impurity_split=None,\n",
              "                                             min_samples_leaf=1,\n",
              "                                             min_samples_split=2,\n",
              "                                             min_weight_fraction_leaf=0.0,\n",
              "                                             n_estimators='warn', n_jobs=None,\n",
              "                                             oob_score=False, random_state=None,\n",
              "                                             verbose=0, warm_start=False),\n",
              "             iid='warn', n_jobs=None,\n",
              "             param_grid={'max_depth': [1, 2, 3, 4, 10],\n",
              "                         'n_estimators': [5, 10, 20, 40, 80]},\n",
              "             pre_dispatch='2*n_jobs', refit=True, return_train_score=False,\n",
              "             scoring=None, verbose=0)"
            ]
          },
          "metadata": {
            "tags": []
          },
          "execution_count": 270
        }
      ]
    },
    {
      "cell_type": "code",
      "metadata": {
        "id": "mAQ88kD5Uoix",
        "colab_type": "code",
        "outputId": "a24e67b0-91dd-41a1-f71f-3c7552c489db",
        "colab": {
          "base_uri": "https://localhost:8080/",
          "height": 34
        }
      },
      "source": [
        "print('The best Cross validated R2 score is {:.2f}'.format(cv.best_score_))\n",
        "\n",
        "# The random forest overfit the data."
      ],
      "execution_count": 0,
      "outputs": [
        {
          "output_type": "stream",
          "text": [
            "The best Cross validated R2 score is -12.57\n"
          ],
          "name": "stdout"
        }
      ]
    }
  ]
}